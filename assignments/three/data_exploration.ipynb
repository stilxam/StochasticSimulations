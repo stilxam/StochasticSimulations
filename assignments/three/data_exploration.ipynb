{
 "cells": [
  {
   "cell_type": "code",
   "execution_count": 7,
   "metadata": {},
   "outputs": [
    {
     "data": {
      "text/html": [
       "<div>\n",
       "<style scoped>\n",
       "    .dataframe tbody tr th:only-of-type {\n",
       "        vertical-align: middle;\n",
       "    }\n",
       "\n",
       "    .dataframe tbody tr th {\n",
       "        vertical-align: top;\n",
       "    }\n",
       "\n",
       "    .dataframe thead th {\n",
       "        text-align: right;\n",
       "    }\n",
       "</style>\n",
       "<table border=\"1\" class=\"dataframe\">\n",
       "  <thead>\n",
       "    <tr style=\"text-align: right;\">\n",
       "      <th></th>\n",
       "      <th>Unnamed: 0</th>\n",
       "      <th>Customer</th>\n",
       "      <th>Arrival Time</th>\n",
       "      <th>Service time Fuel</th>\n",
       "      <th>Shop time</th>\n",
       "      <th>Service time payment</th>\n",
       "    </tr>\n",
       "  </thead>\n",
       "  <tbody>\n",
       "    <tr>\n",
       "      <th>count</th>\n",
       "      <td>421.000000</td>\n",
       "      <td>421.000000</td>\n",
       "      <td>421</td>\n",
       "      <td>421.000000</td>\n",
       "      <td>421.000000</td>\n",
       "      <td>421.000000</td>\n",
       "    </tr>\n",
       "    <tr>\n",
       "      <th>mean</th>\n",
       "      <td>210.000000</td>\n",
       "      <td>210.000000</td>\n",
       "      <td>2024-02-01 14:05:36.790508032</td>\n",
       "      <td>289.990499</td>\n",
       "      <td>15.712589</td>\n",
       "      <td>45.660333</td>\n",
       "    </tr>\n",
       "    <tr>\n",
       "      <th>min</th>\n",
       "      <td>0.000000</td>\n",
       "      <td>0.000000</td>\n",
       "      <td>2024-02-01 06:00:06.644000</td>\n",
       "      <td>47.000000</td>\n",
       "      <td>0.000000</td>\n",
       "      <td>35.000000</td>\n",
       "    </tr>\n",
       "    <tr>\n",
       "      <th>25%</th>\n",
       "      <td>105.000000</td>\n",
       "      <td>105.000000</td>\n",
       "      <td>2024-02-01 09:55:41.463000064</td>\n",
       "      <td>179.000000</td>\n",
       "      <td>0.000000</td>\n",
       "      <td>41.000000</td>\n",
       "    </tr>\n",
       "    <tr>\n",
       "      <th>50%</th>\n",
       "      <td>210.000000</td>\n",
       "      <td>210.000000</td>\n",
       "      <td>2024-02-01 14:15:47.782000128</td>\n",
       "      <td>272.000000</td>\n",
       "      <td>0.000000</td>\n",
       "      <td>46.000000</td>\n",
       "    </tr>\n",
       "    <tr>\n",
       "      <th>75%</th>\n",
       "      <td>315.000000</td>\n",
       "      <td>315.000000</td>\n",
       "      <td>2024-02-01 17:57:28.728000</td>\n",
       "      <td>364.000000</td>\n",
       "      <td>0.000000</td>\n",
       "      <td>51.000000</td>\n",
       "    </tr>\n",
       "    <tr>\n",
       "      <th>max</th>\n",
       "      <td>420.000000</td>\n",
       "      <td>420.000000</td>\n",
       "      <td>2024-02-01 21:59:00.876000</td>\n",
       "      <td>925.000000</td>\n",
       "      <td>444.000000</td>\n",
       "      <td>55.000000</td>\n",
       "    </tr>\n",
       "    <tr>\n",
       "      <th>std</th>\n",
       "      <td>121.676484</td>\n",
       "      <td>121.676484</td>\n",
       "      <td>NaN</td>\n",
       "      <td>150.114036</td>\n",
       "      <td>44.506934</td>\n",
       "      <td>5.628251</td>\n",
       "    </tr>\n",
       "  </tbody>\n",
       "</table>\n",
       "</div>"
      ],
      "text/plain": [
       "       Unnamed: 0    Customer                   Arrival Time  \\\n",
       "count  421.000000  421.000000                            421   \n",
       "mean   210.000000  210.000000  2024-02-01 14:05:36.790508032   \n",
       "min      0.000000    0.000000     2024-02-01 06:00:06.644000   \n",
       "25%    105.000000  105.000000  2024-02-01 09:55:41.463000064   \n",
       "50%    210.000000  210.000000  2024-02-01 14:15:47.782000128   \n",
       "75%    315.000000  315.000000     2024-02-01 17:57:28.728000   \n",
       "max    420.000000  420.000000     2024-02-01 21:59:00.876000   \n",
       "std    121.676484  121.676484                            NaN   \n",
       "\n",
       "       Service time Fuel   Shop time  Service time payment  \n",
       "count         421.000000  421.000000            421.000000  \n",
       "mean          289.990499   15.712589             45.660333  \n",
       "min            47.000000    0.000000             35.000000  \n",
       "25%           179.000000    0.000000             41.000000  \n",
       "50%           272.000000    0.000000             46.000000  \n",
       "75%           364.000000    0.000000             51.000000  \n",
       "max           925.000000  444.000000             55.000000  \n",
       "std           150.114036   44.506934              5.628251  "
      ]
     },
     "execution_count": 7,
     "metadata": {},
     "output_type": "execute_result"
    }
   ],
   "source": [
    "import pandas as pd\n",
    "import time\n",
    "\n",
    "data = pd.read_excel('gasstationdata33.xlsx')\n",
    "data.describe()"
   ]
  },
  {
   "cell_type": "code",
   "execution_count": 21,
   "metadata": {},
   "outputs": [
    {
     "name": "stdout",
     "output_type": "stream",
     "text": [
      "421\n"
     ]
    }
   ],
   "source": [
    "arrivals = data[\"Arrival Time\"]\n",
    "\n",
    "# interarrival times\n",
    "interarrival_times = [arrivals[i] - arrivals[i-1] for i in range(1, len(arrivals))]\n",
    "# accounting for the first arrival\n",
    "interarrival_times = [arrivals[0]] + interarrival_times\n",
    "\n",
    "fuel_time = data[\"Service time Fuel\"]\n",
    "shop_time = data[\"Shop time\"]\n",
    "payment_time = data[\"Service time payment\"]\n",
    "\n",
    "print(len(interarrival_times))\n"
   ]
  },
  {
   "cell_type": "code",
   "execution_count": 28,
   "metadata": {},
   "outputs": [
    {
     "data": {
      "image/png": "[encoded data removed]",
      "text/plain": [
       "<Figure size 1000x1000 with 3 Axes>"
      ]
     },
     "metadata": {},
     "output_type": "display_data"
    }
   ],
   "source": [
    "# a figure with 3 subplots\n",
    "import matplotlib.pyplot as plt\n",
    "fig, axs = plt.subplots(3, 1, figsize=(10, 10))\n",
    "\n",
    "# axs[0].hist(interarrival_times, bins=20)\n",
    "axs[1].hist(fuel_time, bins=10)\n",
    "axs[2].hist(shop_time, bins=50)\n",
    "\n",
    "# show the plot\n",
    "plt.show()"
   ]
  }
 ],
 "metadata": {
  "kernelspec": {
   "display_name": "Python 3",
   "language": "python",
   "name": "python3"
  },
  "language_info": {
   "codemirror_mode": {
    "name": "ipython",
    "version": 3
   },
   "file_extension": ".py",
   "mimetype": "text/x-python",
   "name": "python",
   "nbconvert_exporter": "python",
   "pygments_lexer": "ipython3",
   "version": "3.12.0"
  }
 },
 "nbformat": 4,
 "nbformat_minor": 2
}
