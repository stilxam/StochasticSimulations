{
 "cells": [
  {
   "cell_type": "code",
   "execution_count": 1,
   "metadata": {
    "ExecuteTime": {
     "end_time": "2024-03-23T21:24:37.974279390Z",
     "start_time": "2024-03-23T21:24:36.644781435Z"
    }
   },
   "outputs": [
    {
     "data": {
      "text/html": [
       "<div>\n",
       "<style scoped>\n",
       "    .dataframe tbody tr th:only-of-type {\n",
       "        vertical-align: middle;\n",
       "    }\n",
       "\n",
       "    .dataframe tbody tr th {\n",
       "        vertical-align: top;\n",
       "    }\n",
       "\n",
       "    .dataframe thead th {\n",
       "        text-align: right;\n",
       "    }\n",
       "</style>\n",
       "<table border=\"1\" class=\"dataframe\">\n",
       "  <thead>\n",
       "    <tr style=\"text-align: right;\">\n",
       "      <th></th>\n",
       "      <th>Unnamed: 0</th>\n",
       "      <th>Customer</th>\n",
       "      <th>Arrival Time</th>\n",
       "      <th>Service time Fuel</th>\n",
       "      <th>Shop time</th>\n",
       "      <th>Service time payment</th>\n",
       "    </tr>\n",
       "  </thead>\n",
       "  <tbody>\n",
       "    <tr>\n",
       "      <th>count</th>\n",
       "      <td>421.000000</td>\n",
       "      <td>421.000000</td>\n",
       "      <td>421</td>\n",
       "      <td>421.000000</td>\n",
       "      <td>421.000000</td>\n",
       "      <td>421.000000</td>\n",
       "    </tr>\n",
       "    <tr>\n",
       "      <th>mean</th>\n",
       "      <td>210.000000</td>\n",
       "      <td>210.000000</td>\n",
       "      <td>2024-02-01 14:05:36.790508032</td>\n",
       "      <td>289.990499</td>\n",
       "      <td>15.712589</td>\n",
       "      <td>45.660333</td>\n",
       "    </tr>\n",
       "    <tr>\n",
       "      <th>min</th>\n",
       "      <td>0.000000</td>\n",
       "      <td>0.000000</td>\n",
       "      <td>2024-02-01 06:00:06.644000</td>\n",
       "      <td>47.000000</td>\n",
       "      <td>0.000000</td>\n",
       "      <td>35.000000</td>\n",
       "    </tr>\n",
       "    <tr>\n",
       "      <th>25%</th>\n",
       "      <td>105.000000</td>\n",
       "      <td>105.000000</td>\n",
       "      <td>2024-02-01 09:55:41.463000064</td>\n",
       "      <td>179.000000</td>\n",
       "      <td>0.000000</td>\n",
       "      <td>41.000000</td>\n",
       "    </tr>\n",
       "    <tr>\n",
       "      <th>50%</th>\n",
       "      <td>210.000000</td>\n",
       "      <td>210.000000</td>\n",
       "      <td>2024-02-01 14:15:47.782000128</td>\n",
       "      <td>272.000000</td>\n",
       "      <td>0.000000</td>\n",
       "      <td>46.000000</td>\n",
       "    </tr>\n",
       "    <tr>\n",
       "      <th>75%</th>\n",
       "      <td>315.000000</td>\n",
       "      <td>315.000000</td>\n",
       "      <td>2024-02-01 17:57:28.728000</td>\n",
       "      <td>364.000000</td>\n",
       "      <td>0.000000</td>\n",
       "      <td>51.000000</td>\n",
       "    </tr>\n",
       "    <tr>\n",
       "      <th>max</th>\n",
       "      <td>420.000000</td>\n",
       "      <td>420.000000</td>\n",
       "      <td>2024-02-01 21:59:00.876000</td>\n",
       "      <td>925.000000</td>\n",
       "      <td>444.000000</td>\n",
       "      <td>55.000000</td>\n",
       "    </tr>\n",
       "    <tr>\n",
       "      <th>std</th>\n",
       "      <td>121.676484</td>\n",
       "      <td>121.676484</td>\n",
       "      <td>NaN</td>\n",
       "      <td>150.114036</td>\n",
       "      <td>44.506934</td>\n",
       "      <td>5.628251</td>\n",
       "    </tr>\n",
       "  </tbody>\n",
       "</table>\n",
       "</div>"
      ],
      "text/plain": [
       "       Unnamed: 0    Customer                   Arrival Time  \\\n",
       "count  421.000000  421.000000                            421   \n",
       "mean   210.000000  210.000000  2024-02-01 14:05:36.790508032   \n",
       "min      0.000000    0.000000     2024-02-01 06:00:06.644000   \n",
       "25%    105.000000  105.000000  2024-02-01 09:55:41.463000064   \n",
       "50%    210.000000  210.000000  2024-02-01 14:15:47.782000128   \n",
       "75%    315.000000  315.000000     2024-02-01 17:57:28.728000   \n",
       "max    420.000000  420.000000     2024-02-01 21:59:00.876000   \n",
       "std    121.676484  121.676484                            NaN   \n",
       "\n",
       "       Service time Fuel   Shop time  Service time payment  \n",
       "count         421.000000  421.000000            421.000000  \n",
       "mean          289.990499   15.712589             45.660333  \n",
       "min            47.000000    0.000000             35.000000  \n",
       "25%           179.000000    0.000000             41.000000  \n",
       "50%           272.000000    0.000000             46.000000  \n",
       "75%           364.000000    0.000000             51.000000  \n",
       "max           925.000000  444.000000             55.000000  \n",
       "std           150.114036   44.506934              5.628251  "
      ]
     },
     "execution_count": 1,
     "metadata": {},
     "output_type": "execute_result"
    }
   ],
   "source": [
    "import pandas as pd\n",
    "import numpy as np\n",
    "import time\n",
    "import math\n",
    "from scipy import stats\n",
    "\n",
    "data = pd.read_excel('gasstationdata33.xlsx')\n",
    "data.describe()"
   ]
  },
  {
   "cell_type": "markdown",
   "metadata": {},
   "source": [
    "__Preprocessing the data__"
   ]
  },
  {
   "cell_type": "code",
   "execution_count": 2,
   "metadata": {},
   "outputs": [
    {
     "data": {
      "text/html": [
       "<div>\n",
       "<style scoped>\n",
       "    .dataframe tbody tr th:only-of-type {\n",
       "        vertical-align: middle;\n",
       "    }\n",
       "\n",
       "    .dataframe tbody tr th {\n",
       "        vertical-align: top;\n",
       "    }\n",
       "\n",
       "    .dataframe thead th {\n",
       "        text-align: right;\n",
       "    }\n",
       "</style>\n",
       "<table border=\"1\" class=\"dataframe\">\n",
       "  <thead>\n",
       "    <tr style=\"text-align: right;\">\n",
       "      <th></th>\n",
       "      <th>Customer</th>\n",
       "      <th>Arrival Time</th>\n",
       "      <th>Parking Preference</th>\n",
       "      <th>Service time Fuel</th>\n",
       "      <th>Shop time</th>\n",
       "      <th>Service time payment</th>\n",
       "    </tr>\n",
       "  </thead>\n",
       "  <tbody>\n",
       "    <tr>\n",
       "      <th>0</th>\n",
       "      <td>0</td>\n",
       "      <td>2024-02-01 06:00:06.644</td>\n",
       "      <td>NaN</td>\n",
       "      <td>181</td>\n",
       "      <td>0</td>\n",
       "      <td>46</td>\n",
       "    </tr>\n",
       "    <tr>\n",
       "      <th>1</th>\n",
       "      <td>1</td>\n",
       "      <td>2024-02-01 06:03:05.847</td>\n",
       "      <td>Left</td>\n",
       "      <td>158</td>\n",
       "      <td>29</td>\n",
       "      <td>38</td>\n",
       "    </tr>\n",
       "    <tr>\n",
       "      <th>2</th>\n",
       "      <td>2</td>\n",
       "      <td>2024-02-01 06:05:45.348</td>\n",
       "      <td>NaN</td>\n",
       "      <td>357</td>\n",
       "      <td>0</td>\n",
       "      <td>39</td>\n",
       "    </tr>\n",
       "    <tr>\n",
       "      <th>3</th>\n",
       "      <td>3</td>\n",
       "      <td>2024-02-01 06:07:31.426</td>\n",
       "      <td>Right</td>\n",
       "      <td>802</td>\n",
       "      <td>0</td>\n",
       "      <td>37</td>\n",
       "    </tr>\n",
       "    <tr>\n",
       "      <th>4</th>\n",
       "      <td>4</td>\n",
       "      <td>2024-02-01 06:15:28.037</td>\n",
       "      <td>Right</td>\n",
       "      <td>359</td>\n",
       "      <td>0</td>\n",
       "      <td>50</td>\n",
       "    </tr>\n",
       "  </tbody>\n",
       "</table>\n",
       "</div>"
      ],
      "text/plain": [
       "   Customer            Arrival Time Parking Preference  Service time Fuel  \\\n",
       "0         0 2024-02-01 06:00:06.644                NaN                181   \n",
       "1         1 2024-02-01 06:03:05.847               Left                158   \n",
       "2         2 2024-02-01 06:05:45.348                NaN                357   \n",
       "3         3 2024-02-01 06:07:31.426              Right                802   \n",
       "4         4 2024-02-01 06:15:28.037              Right                359   \n",
       "\n",
       "   Shop time  Service time payment  \n",
       "0          0                    46  \n",
       "1         29                    38  \n",
       "2          0                    39  \n",
       "3          0                    37  \n",
       "4          0                    50  "
      ]
     },
     "execution_count": 2,
     "metadata": {},
     "output_type": "execute_result"
    }
   ],
   "source": [
    "# convert data into a dataframe\n",
    "data = pd.DataFrame(data, columns = data.columns)\n",
    "# data[\"Interarrival Times\"] = interarrival_times\n",
    "\n",
    "data = data.drop(columns = [\"Unnamed: 0\"])\n",
    "\n",
    "list_of_attributes = [\"Service time Fuel\", \"Shop time\", \"Service time payment\", \"Interarrival Times\"]\n",
    "data.head()"
   ]
  },
  {
   "cell_type": "code",
   "execution_count": 3,
   "metadata": {
    "ExecuteTime": {
     "end_time": "2024-03-23T21:24:37.996603442Z",
     "start_time": "2024-03-23T21:24:37.715857881Z"
    }
   },
   "outputs": [],
   "source": [
    "# Convert timestamps to datetime objects\n",
    "arrivals_datetime = [arrival.to_pydatetime() for arrival in data[\"Arrival Time\"]]\n",
    "\n",
    "start_time = pd.to_datetime('2024-02-01 06:00:00')\n",
    "\n",
    "# Calculate interarrival times in minutes\n",
    "interarrival_times = [(arrivals_datetime[i] - arrivals_datetime[i-1]).total_seconds()  if i != 0 else \n",
    "                      (arrivals_datetime[0] - start_time).total_seconds() for i in range(len(arrivals_datetime))]\n",
    "\n",
    "data[\"Interarrival Times\"] = interarrival_times"
   ]
  },
  {
   "cell_type": "code",
   "execution_count": 4,
   "metadata": {},
   "outputs": [
    {
     "data": {
      "text/html": [
       "<div>\n",
       "<style scoped>\n",
       "    .dataframe tbody tr th:only-of-type {\n",
       "        vertical-align: middle;\n",
       "    }\n",
       "\n",
       "    .dataframe tbody tr th {\n",
       "        vertical-align: top;\n",
       "    }\n",
       "\n",
       "    .dataframe thead th {\n",
       "        text-align: right;\n",
       "    }\n",
       "</style>\n",
       "<table border=\"1\" class=\"dataframe\">\n",
       "  <thead>\n",
       "    <tr style=\"text-align: right;\">\n",
       "      <th></th>\n",
       "      <th>Customer</th>\n",
       "      <th>Arrival Time</th>\n",
       "      <th>Parking Preference</th>\n",
       "      <th>Service time Fuel</th>\n",
       "      <th>Shop time</th>\n",
       "      <th>Service time payment</th>\n",
       "      <th>Interarrival Times</th>\n",
       "    </tr>\n",
       "  </thead>\n",
       "  <tbody>\n",
       "    <tr>\n",
       "      <th>0</th>\n",
       "      <td>0</td>\n",
       "      <td>2024-02-01 06:00:06.644</td>\n",
       "      <td>NaN</td>\n",
       "      <td>3.016667</td>\n",
       "      <td>0.000000</td>\n",
       "      <td>0.766667</td>\n",
       "      <td>0.110733</td>\n",
       "    </tr>\n",
       "    <tr>\n",
       "      <th>1</th>\n",
       "      <td>1</td>\n",
       "      <td>2024-02-01 06:03:05.847</td>\n",
       "      <td>Left</td>\n",
       "      <td>2.633333</td>\n",
       "      <td>0.483333</td>\n",
       "      <td>0.633333</td>\n",
       "      <td>2.986717</td>\n",
       "    </tr>\n",
       "    <tr>\n",
       "      <th>2</th>\n",
       "      <td>2</td>\n",
       "      <td>2024-02-01 06:05:45.348</td>\n",
       "      <td>NaN</td>\n",
       "      <td>5.950000</td>\n",
       "      <td>0.000000</td>\n",
       "      <td>0.650000</td>\n",
       "      <td>2.658350</td>\n",
       "    </tr>\n",
       "    <tr>\n",
       "      <th>3</th>\n",
       "      <td>3</td>\n",
       "      <td>2024-02-01 06:07:31.426</td>\n",
       "      <td>Right</td>\n",
       "      <td>13.366667</td>\n",
       "      <td>0.000000</td>\n",
       "      <td>0.616667</td>\n",
       "      <td>1.767967</td>\n",
       "    </tr>\n",
       "    <tr>\n",
       "      <th>4</th>\n",
       "      <td>4</td>\n",
       "      <td>2024-02-01 06:15:28.037</td>\n",
       "      <td>Right</td>\n",
       "      <td>5.983333</td>\n",
       "      <td>0.000000</td>\n",
       "      <td>0.833333</td>\n",
       "      <td>7.943517</td>\n",
       "    </tr>\n",
       "  </tbody>\n",
       "</table>\n",
       "</div>"
      ],
      "text/plain": [
       "   Customer            Arrival Time Parking Preference  Service time Fuel  \\\n",
       "0         0 2024-02-01 06:00:06.644                NaN           3.016667   \n",
       "1         1 2024-02-01 06:03:05.847               Left           2.633333   \n",
       "2         2 2024-02-01 06:05:45.348                NaN           5.950000   \n",
       "3         3 2024-02-01 06:07:31.426              Right          13.366667   \n",
       "4         4 2024-02-01 06:15:28.037              Right           5.983333   \n",
       "\n",
       "   Shop time  Service time payment  Interarrival Times  \n",
       "0   0.000000              0.766667            0.110733  \n",
       "1   0.483333              0.633333            2.986717  \n",
       "2   0.000000              0.650000            2.658350  \n",
       "3   0.000000              0.616667            1.767967  \n",
       "4   0.000000              0.833333            7.943517  "
      ]
     },
     "execution_count": 4,
     "metadata": {},
     "output_type": "execute_result"
    }
   ],
   "source": [
    "# data converted into minutes\n",
    "for attribute in list_of_attributes:\n",
    "    data[attribute] = data[attribute] / 60\n",
    "\n",
    "data.head()"
   ]
  },
  {
   "cell_type": "code",
   "execution_count": 5,
   "metadata": {
    "ExecuteTime": {
     "end_time": "2024-03-23T21:24:38.573219181Z",
     "start_time": "2024-03-23T21:24:37.724613305Z"
    }
   },
   "outputs": [
    {
     "data": {
      "image/png": "[encoded data removed]",
      "text/plain": [
       "<Figure size 1000x1000 with 6 Axes>"
      ]
     },
     "metadata": {},
     "output_type": "display_data"
    }
   ],
   "source": [
    "import matplotlib.pyplot as plt\n",
    "fig, axs = plt.subplots(3, 2, figsize=(10, 10))\n",
    "\n",
    "# axs[0,0].hist(data[\"Parking Preference\"], bins=30)\n",
    "# axs[0,0].set_title(\"Parking Preference\")\n",
    "\n",
    "axs[0,1].hist(data[\"Service time Fuel\"], bins=30)\n",
    "axs[0,1].set_title(\"Service time Fuel\")\n",
    "\n",
    "axs[1,0].hist(data[\"Shop time\"], bins=30)\n",
    "axs[1,0].set_title(\"Shop time\")\n",
    "\n",
    "axs[1,1].hist(data[\"Service time payment\"], bins=18)\n",
    "axs[1,1].set_title(\"Service time payment\")\n",
    "\n",
    "axs[2,0].hist(data[\"Interarrival Times\"], bins=30)\n",
    "axs[2,0].set_title(\"Interarrival Times\")\n",
    "\n",
    "# axs[0,0].hist(interarrival_times, bins=30)\n",
    "# axs[1].hist(fuel_time, bins=20)\n",
    "# axs[2].hist(shop_time, bins= math.floor(np.sqrt(len(shop_time))))\n",
    "# axs[2].set_xlim(0, 200)\n",
    "\n",
    "# show the plot\n",
    "plt.show()"
   ]
  },
  {
   "cell_type": "markdown",
   "metadata": {},
   "source": [
    "__Testing underlying distributions__"
   ]
  },
  {
   "cell_type": "code",
   "execution_count": 6,
   "metadata": {},
   "outputs": [
    {
     "name": "stdout",
     "output_type": "stream",
     "text": [
      "0.7767220902612827 0.22327790973871733\n"
     ]
    }
   ],
   "source": [
    "# conver the shop time into a binary variable\n",
    "shop_time = data[\"Shop time\"]\n",
    "shop_time = shop_time.apply(lambda x: 1 if x > 0 else 0)\n",
    "\n",
    "count_1 = shop_time[shop_time == 1].count()\n",
    "count_0 = shop_time[shop_time == 0].count()\n",
    "\n",
    "percentage_1 = count_1 / (count_1 + count_0)\n",
    "percentage_0 = count_0 / (count_1 + count_0)\n",
    "\n",
    "print (percentage_0, percentage_1)\n"
   ]
  },
  {
   "cell_type": "code",
   "execution_count": 7,
   "metadata": {},
   "outputs": [
    {
     "name": "stdout",
     "output_type": "stream",
     "text": [
      "0.07600950118764846 0.09501187648456057 0.828978622327791\n"
     ]
    }
   ],
   "source": [
    "preference = data[\"Parking Preference\"]\n",
    "\n",
    "count_right = preference[preference == \"Right\"].count()\n",
    "count_left = preference[preference == \"Left\"].count()\n",
    "count_non = len(preference) - count_right - count_left\n",
    "\n",
    "percentage_right = count_right / (count_right + count_left + count_non)\n",
    "percentage_left = count_left / (count_right + count_left + count_non)\n",
    "percentage_non = count_non / (count_right + count_left + count_non)\n",
    "\n",
    "print (percentage_right, percentage_left, percentage_non)"
   ]
  },
  {
   "cell_type": "code",
   "execution_count": null,
   "metadata": {},
   "outputs": [],
   "source": [
    "for attribute in list_of_attributes:\n",
    "\n",
    "    # remove all zeros\n",
    "    data = data[data[attribute] != 0]\n",
    "    # remove all nan\n",
    "\n",
    "    print(f\"------------------Testing for {attribute}-------------------\")\n",
    "\n",
    "    # exponential distribution\n",
    "    M1 = np.mean(data[attribute])\n",
    "    fitExponentialDist = stats.expon(scale = 1 / M1)\n",
    "    test = stats.kstest(data[attribute], fitExponentialDist.cdf)\n",
    "    print(\"Exponential Distribution\")\n",
    "    print(test)\n",
    "    if test[1] < 0.05:\n",
    "        print(\"Bad fit since p-value is less than 0.05\")\n",
    "    else: \n",
    "        print(\"Good fit since p-value is greater than 0.05\")\n",
    "    \n",
    "    print(\"\")\n",
    "\n",
    "    # gamma distribution\n",
    "    M2 = np.mean([x**2 for x in data[attribute]])\n",
    "    estBeta = M1 / (M2 - M1**2)\n",
    "    estAlpha = M1 * estBeta\n",
    "    fitGammaDist = stats.gamma(a = estAlpha, scale = 1 / estBeta)\n",
    "    test = stats.kstest(data[attribute], fitGammaDist.cdf)\n",
    "    print(\"Gamma Distribution\")\n",
    "    print(test)\n",
    "    if test[1] < 0.05:\n",
    "        print(\"Bad fit since p-value is less than 0.05\")\n",
    "    else: \n",
    "        print(\"Good fit since p-value is greater than 0.05\")\n",
    "    \n",
    "    print(\"\")\n",
    "\n",
    "    # poisson distribution\n",
    "    fiPoissonDist = stats.poisson(mu = M1)\n",
    "    test = stats.kstest(data[attribute], fiPoissonDist.cdf)\n",
    "    print(\"Poisson Distribution\")\n",
    "    print(test)\n",
    "    if test[1] < 0.05:\n",
    "        print(\"Bad fit since p-value is less than 0.05\")\n",
    "    else: \n",
    "        print(\"Good fit since p-value is greater than 0.05\")\n",
    "\n",
    "    print(\"\")\n",
    "\n",
    "    # normal distribution\n",
    "    estimated_std = M2 - M1**2\n",
    "    fitNormalDist = stats.norm(loc = M1, scale = estimated_std)\n",
    "    test = stats.kstest(data[attribute], fitNormalDist.cdf)\n",
    "    print(\"Normal Distribution\")\n",
    "    print(test)\n",
    "    if test[1] < 0.05:\n",
    "        print(\"Bad fit since p-value is less than 0.05\")\n",
    "    else: \n",
    "        print(\"Good fit since p-value is greater than 0.05\")\n",
    "\n",
    "    \n",
    "    print(f\"M1: {M1}\")\n",
    "    print(f\"M2: {M2}\")\n",
    "    print(f\"Estimated alpha: {estAlpha}\")\n",
    "    print(f\"Estimated beta: {estBeta}\")\n",
    "    print(f\"Estimated std: {estimated_std}\")\n",
    "    \n",
    "    print(\"----------------------------------------------------------\")\n",
    "    print(\"\")"
   ]
  },
  {
   "cell_type": "code",
   "execution_count": null,
   "metadata": {
    "ExecuteTime": {
     "end_time": "2024-03-23T16:31:51.567973750Z",
     "start_time": "2024-03-23T16:31:51.530338135Z"
    },
    "collapsed": false
   },
   "outputs": [],
   "source": [
    "data.columns"
   ]
  },
  {
   "cell_type": "code",
   "execution_count": null,
   "metadata": {
    "ExecuteTime": {
     "end_time": "2024-03-23T16:31:53.588574776Z",
     "start_time": "2024-03-23T16:31:51.535876596Z"
    },
    "collapsed": false
   },
   "outputs": [],
   "source": [
    "# SPLOM\n",
    "fig, axs = plt.subplots(4, 4, figsize=(20, 20))\n",
    "# axs[0,0].scatter(data[\"Service time Fuel\"], data[\"Service time Fuel\"])\n",
    "axs[0,0].violinplot(data[\"Service time Fuel\"])\n",
    "\n",
    "axs[0,1].scatter(data[\"Service time Fuel\"], data[\"Service time payment\"])\n",
    "axs[0,1].set_xlabel(\"Service Time Fuel\")\n",
    "axs[0,1].set_ylabel(\"Service Time Payment\")\n",
    "\n",
    "axs[0,2].scatter(data[\"Service time Fuel\"], data[\"Shop time\"])\n",
    "axs[0,2].set_xlabel(\"Service Time Fuel\")\n",
    "axs[0,2].set_ylabel(\"Shop Time\")\n",
    "\n",
    "axs[0,3].scatter(data[\"Service time Fuel\"], data[\"Arrival Time (H)\"])\n",
    "axs[0,3].set_xlabel(\"Service Time Fuel\")\n",
    "axs[0,3].set_ylabel(\"Arrival Time (H)\")\n",
    "\n",
    "\n",
    "\n",
    "axs[1,0].scatter(data[\"Service time payment\"], data[\"Service time Fuel\"])\n",
    "axs[1,0].set_xlabel(\"Service Time Payment\")\n",
    "axs[1,0].set_ylabel(\"Service Time Fuel\")\n",
    "\n",
    "axs[1,1].violinplot(data[\"Service time payment\"])\n",
    "\n",
    "axs[1,2].scatter(data[\"Service time payment\"], data[\"Shop time\"])\n",
    "axs[1,2].set_xlabel(\"Service Time Payment\")\n",
    "axs[1,2].set_ylabel(\"Shop Time\")\n",
    "\n",
    "\n",
    "axs[1,3].scatter(data[\"Service time payment\"], data[\"Arrival Time (H)\"])\n",
    "axs[1,3].set_xlabel(\"Service Time Payment\")\n",
    "axs[1,3].set_ylabel(\"Arrival Time (H)\")\n",
    "\n",
    "axs[2,0].scatter(data[\"Shop time\"], data[\"Service time Fuel\"])\n",
    "axs[2,0].set_xlabel(\"Shop Time\")\n",
    "axs[2,0].set_ylabel(\"Service Time Fuel\")\n",
    "\n",
    "axs[2,1].scatter(data[\"Shop time\"], data[\"Service time payment\"])\n",
    "axs[2,1].set_xlabel(\"Shop Time\")\n",
    "axs[2,1].set_ylabel(\"Service Time Payment\")\n",
    "\n",
    "axs[2,2].violinplot( data[\"Shop time\"])\n",
    "\n",
    "axs[2,3].scatter(data[\"Shop time\"], data[\"Arrival Time (H)\"])\n",
    "axs[2,3].set_xlabel(\"Shop Time\")\n",
    "axs[2,3].set_ylabel(\"Arrival Time (H)\")\n",
    "\n",
    "\n",
    "\n",
    "axs[3,0].scatter(data[\"Arrival Time (H)\"], data[\"Service time Fuel\"])\n",
    "axs[3,0].set_xlabel(\"Arrival Time (H)\")\n",
    "axs[3,0].set_ylabel(\"Service Time Fuel\")\n",
    "\n",
    "axs[3,1].scatter(data[\"Arrival Time (H)\"], data[\"Service time payment\"])\n",
    "axs[3,1].set_xlabel(\"Arrival Time (H)\")\n",
    "axs[3,1].set_ylabel(\"Service Time Payment\")\n",
    "\n",
    "\n",
    "\n",
    "axs[3,2].scatter(data[\"Arrival Time (H)\"], data[\"Shop time\"])\n",
    "axs[3,2].set_xlabel(\"Arrival Time (H)\")\n",
    "axs[3,2].set_ylabel(\"Shop Time\")\n",
    "\n",
    "axs[3,3].hist( data[\"Arrival Time (H)\"])\n",
    "\n",
    "\n",
    "\n",
    "\n",
    ";"
   ]
  },
  {
   "cell_type": "code",
   "execution_count": null,
   "metadata": {
    "ExecuteTime": {
     "end_time": "2024-03-23T16:31:54.127419804Z",
     "start_time": "2024-03-23T16:31:53.588278185Z"
    },
    "collapsed": false
   },
   "outputs": [],
   "source": [
    "import plotly.express as px\n",
    "px.parallel_coordinates(\n",
    "    data_frame=data,\n",
    "    dimensions=[\n",
    "        \"Arrival Time (H)\",\n",
    "        \"Shop time\",\n",
    "        \"Service time Fuel\",\n",
    "        \"Service time payment\"\n",
    "    ],\n",
    "    color=\"Arrival Time (H)\"\n",
    ")"
   ]
  },
  {
   "cell_type": "code",
   "execution_count": null,
   "metadata": {
    "ExecuteTime": {
     "end_time": "2024-03-23T16:31:54.130116901Z",
     "start_time": "2024-03-23T16:31:53.900310303Z"
    },
    "collapsed": false
   },
   "outputs": [],
   "source": [
    "# data[\"Arrival Time\"].dt.hour"
   ]
  },
  {
   "cell_type": "code",
   "execution_count": null,
   "metadata": {
    "ExecuteTime": {
     "end_time": "2024-03-23T16:31:54.130320954Z",
     "start_time": "2024-03-23T16:31:53.900522044Z"
    },
    "collapsed": false
   },
   "outputs": [],
   "source": []
  },
  {
   "cell_type": "code",
   "execution_count": null,
   "metadata": {
    "ExecuteTime": {
     "end_time": "2024-03-23T16:31:54.130493657Z",
     "start_time": "2024-03-23T16:31:53.900655645Z"
    },
    "collapsed": false
   },
   "outputs": [],
   "source": []
  },
  {
   "cell_type": "code",
   "execution_count": null,
   "metadata": {
    "ExecuteTime": {
     "end_time": "2024-03-23T16:31:54.130643951Z",
     "start_time": "2024-03-23T16:31:53.900763930Z"
    },
    "collapsed": false
   },
   "outputs": [],
   "source": []
  }
 ],
 "metadata": {
  "kernelspec": {
   "display_name": "Python 3",
   "language": "python",
   "name": "python3"
  },
  "language_info": {
   "codemirror_mode": {
    "name": "ipython",
    "version": 3
   },
   "file_extension": ".py",
   "mimetype": "text/x-python",
   "name": "python",
   "nbconvert_exporter": "python",
   "pygments_lexer": "ipython3",
   "version": "3.12.0"
  }
 },
 "nbformat": 4,
 "nbformat_minor": 2
}
