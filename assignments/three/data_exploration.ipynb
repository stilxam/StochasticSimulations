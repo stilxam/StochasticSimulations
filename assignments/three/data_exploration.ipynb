{
 "cells": [
  {
   "cell_type": "code",
   "execution_count": 1,
   "metadata": {
    "ExecuteTime": {
     "end_time": "2024-03-25T09:09:48.825572457Z",
     "start_time": "2024-03-25T09:09:47.959841794Z"
    }
   },
   "outputs": [
    {
     "name": "stderr",
     "output_type": "stream",
     "text": [
      "/tmp/ipykernel_4550/1622184697.py:1: DeprecationWarning: \n",
      "Pyarrow will become a required dependency of pandas in the next major release of pandas (pandas 3.0),\n",
      "(to allow more performant data types, such as the Arrow string type, and better interoperability with other libraries)\n",
      "but was not found to be installed on your system.\n",
      "If this would cause problems for you,\n",
      "please provide us feedback at https://github.com/pandas-dev/pandas/issues/54466\n",
      "        \n",
      "  import pandas as pd\n"
     ]
    },
    {
     "data": {
      "text/plain": "       Unnamed: 0    Customer                   Arrival Time  \\\ncount  421.000000  421.000000                            421   \nmean   210.000000  210.000000  2024-02-01 14:05:36.790508032   \nmin      0.000000    0.000000     2024-02-01 06:00:06.644000   \n25%    105.000000  105.000000  2024-02-01 09:55:41.463000064   \n50%    210.000000  210.000000  2024-02-01 14:15:47.782000128   \n75%    315.000000  315.000000     2024-02-01 17:57:28.728000   \nmax    420.000000  420.000000     2024-02-01 21:59:00.876000   \nstd    121.676484  121.676484                            NaN   \n\n       Service time Fuel   Shop time  Service time payment  \ncount         421.000000  421.000000            421.000000  \nmean          289.990499   15.712589             45.660333  \nmin            47.000000    0.000000             35.000000  \n25%           179.000000    0.000000             41.000000  \n50%           272.000000    0.000000             46.000000  \n75%           364.000000    0.000000             51.000000  \nmax           925.000000  444.000000             55.000000  \nstd           150.114036   44.506934              5.628251  ",
      "text/html": "<div>\n<style scoped>\n    .dataframe tbody tr th:only-of-type {\n        vertical-align: middle;\n    }\n\n    .dataframe tbody tr th {\n        vertical-align: top;\n    }\n\n    .dataframe thead th {\n        text-align: right;\n    }\n</style>\n<table border=\"1\" class=\"dataframe\">\n  <thead>\n    <tr style=\"text-align: right;\">\n      <th></th>\n      <th>Unnamed: 0</th>\n      <th>Customer</th>\n      <th>Arrival Time</th>\n      <th>Service time Fuel</th>\n      <th>Shop time</th>\n      <th>Service time payment</th>\n    </tr>\n  </thead>\n  <tbody>\n    <tr>\n      <th>count</th>\n      <td>421.000000</td>\n      <td>421.000000</td>\n      <td>421</td>\n      <td>421.000000</td>\n      <td>421.000000</td>\n      <td>421.000000</td>\n    </tr>\n    <tr>\n      <th>mean</th>\n      <td>210.000000</td>\n      <td>210.000000</td>\n      <td>2024-02-01 14:05:36.790508032</td>\n      <td>289.990499</td>\n      <td>15.712589</td>\n      <td>45.660333</td>\n    </tr>\n    <tr>\n      <th>min</th>\n      <td>0.000000</td>\n      <td>0.000000</td>\n      <td>2024-02-01 06:00:06.644000</td>\n      <td>47.000000</td>\n      <td>0.000000</td>\n      <td>35.000000</td>\n    </tr>\n    <tr>\n      <th>25%</th>\n      <td>105.000000</td>\n      <td>105.000000</td>\n      <td>2024-02-01 09:55:41.463000064</td>\n      <td>179.000000</td>\n      <td>0.000000</td>\n      <td>41.000000</td>\n    </tr>\n    <tr>\n      <th>50%</th>\n      <td>210.000000</td>\n      <td>210.000000</td>\n      <td>2024-02-01 14:15:47.782000128</td>\n      <td>272.000000</td>\n      <td>0.000000</td>\n      <td>46.000000</td>\n    </tr>\n    <tr>\n      <th>75%</th>\n      <td>315.000000</td>\n      <td>315.000000</td>\n      <td>2024-02-01 17:57:28.728000</td>\n      <td>364.000000</td>\n      <td>0.000000</td>\n      <td>51.000000</td>\n    </tr>\n    <tr>\n      <th>max</th>\n      <td>420.000000</td>\n      <td>420.000000</td>\n      <td>2024-02-01 21:59:00.876000</td>\n      <td>925.000000</td>\n      <td>444.000000</td>\n      <td>55.000000</td>\n    </tr>\n    <tr>\n      <th>std</th>\n      <td>121.676484</td>\n      <td>121.676484</td>\n      <td>NaN</td>\n      <td>150.114036</td>\n      <td>44.506934</td>\n      <td>5.628251</td>\n    </tr>\n  </tbody>\n</table>\n</div>"
     },
     "execution_count": 1,
     "metadata": {},
     "output_type": "execute_result"
    }
   ],
   "source": [
    "import pandas as pd\n",
    "import numpy as np\n",
    "import time\n",
    "import math\n",
    "from scipy import stats\n",
    "\n",
    "data = pd.read_excel('gasstationdata33.xlsx')\n",
    "data.describe()"
   ]
  },
  {
   "cell_type": "markdown",
   "metadata": {},
   "source": [
    "__Preprocessing the data__"
   ]
  },
  {
   "cell_type": "code",
   "execution_count": 2,
   "metadata": {
    "ExecuteTime": {
     "end_time": "2024-03-25T09:09:48.836274292Z",
     "start_time": "2024-03-25T09:09:48.825770515Z"
    }
   },
   "outputs": [
    {
     "data": {
      "text/plain": "   Customer            Arrival Time Parking Preference  Service time Fuel  \\\n0         0 2024-02-01 06:00:06.644                NaN                181   \n1         1 2024-02-01 06:03:05.847               Left                158   \n2         2 2024-02-01 06:05:45.348                NaN                357   \n3         3 2024-02-01 06:07:31.426              Right                802   \n4         4 2024-02-01 06:15:28.037              Right                359   \n\n   Shop time  Service time payment  \n0          0                    46  \n1         29                    38  \n2          0                    39  \n3          0                    37  \n4          0                    50  ",
      "text/html": "<div>\n<style scoped>\n    .dataframe tbody tr th:only-of-type {\n        vertical-align: middle;\n    }\n\n    .dataframe tbody tr th {\n        vertical-align: top;\n    }\n\n    .dataframe thead th {\n        text-align: right;\n    }\n</style>\n<table border=\"1\" class=\"dataframe\">\n  <thead>\n    <tr style=\"text-align: right;\">\n      <th></th>\n      <th>Customer</th>\n      <th>Arrival Time</th>\n      <th>Parking Preference</th>\n      <th>Service time Fuel</th>\n      <th>Shop time</th>\n      <th>Service time payment</th>\n    </tr>\n  </thead>\n  <tbody>\n    <tr>\n      <th>0</th>\n      <td>0</td>\n      <td>2024-02-01 06:00:06.644</td>\n      <td>NaN</td>\n      <td>181</td>\n      <td>0</td>\n      <td>46</td>\n    </tr>\n    <tr>\n      <th>1</th>\n      <td>1</td>\n      <td>2024-02-01 06:03:05.847</td>\n      <td>Left</td>\n      <td>158</td>\n      <td>29</td>\n      <td>38</td>\n    </tr>\n    <tr>\n      <th>2</th>\n      <td>2</td>\n      <td>2024-02-01 06:05:45.348</td>\n      <td>NaN</td>\n      <td>357</td>\n      <td>0</td>\n      <td>39</td>\n    </tr>\n    <tr>\n      <th>3</th>\n      <td>3</td>\n      <td>2024-02-01 06:07:31.426</td>\n      <td>Right</td>\n      <td>802</td>\n      <td>0</td>\n      <td>37</td>\n    </tr>\n    <tr>\n      <th>4</th>\n      <td>4</td>\n      <td>2024-02-01 06:15:28.037</td>\n      <td>Right</td>\n      <td>359</td>\n      <td>0</td>\n      <td>50</td>\n    </tr>\n  </tbody>\n</table>\n</div>"
     },
     "execution_count": 2,
     "metadata": {},
     "output_type": "execute_result"
    }
   ],
   "source": [
    "# convert data into a dataframe\n",
    "data = pd.DataFrame(data, columns = data.columns)\n",
    "# data[\"Interarrival Times\"] = interarrival_times\n",
    "\n",
    "data = data.drop(columns = [\"Unnamed: 0\"])\n",
    "\n",
    "list_of_attributes = [\"Service time Fuel\", \"Shop time\", \"Service time payment\", \"Interarrival Times\"]\n",
    "data.head()"
   ]
  },
  {
   "cell_type": "code",
   "execution_count": 3,
   "metadata": {
    "ExecuteTime": {
     "end_time": "2024-03-25T09:09:48.982576753Z",
     "start_time": "2024-03-25T09:09:48.838442967Z"
    }
   },
   "outputs": [],
   "source": [
    "# Convert timestamps to datetime objects\n",
    "arrivals_datetime = [arrival.to_pydatetime() for arrival in data[\"Arrival Time\"]]\n",
    "\n",
    "start_time = pd.to_datetime('2024-02-01 06:00:00')\n",
    "\n",
    "\n",
    "# Calculate interarrival times in minutes\n",
    "interarrival_times = [(arrivals_datetime[i] - arrivals_datetime[i-1]).total_seconds()  if i != 0 else \n",
    "                      (arrivals_datetime[0] - start_time).total_seconds() for i in range(len(arrivals_datetime))]\n",
    "\n",
    "data[\"Interarrival Times\"] = interarrival_times\n",
    "\n",
    "# get the hour of the day\n",
    "data[\"Arrival Time (H)\"] = data[\"Arrival Time\"].dt.hour\n"
   ]
  },
  {
   "cell_type": "code",
   "execution_count": 4,
   "metadata": {
    "ExecuteTime": {
     "end_time": "2024-03-25T09:09:48.983424845Z",
     "start_time": "2024-03-25T09:09:48.879236697Z"
    }
   },
   "outputs": [
    {
     "data": {
      "text/plain": "   Customer            Arrival Time Parking Preference  Service time Fuel  \\\n0         0 2024-02-01 06:00:06.644                NaN           3.016667   \n1         1 2024-02-01 06:03:05.847               Left           2.633333   \n2         2 2024-02-01 06:05:45.348                NaN           5.950000   \n3         3 2024-02-01 06:07:31.426              Right          13.366667   \n4         4 2024-02-01 06:15:28.037              Right           5.983333   \n\n   Shop time  Service time payment  Interarrival Times  Arrival Time (H)  \n0   0.000000              0.766667            0.110733                 6  \n1   0.483333              0.633333            2.986717                 6  \n2   0.000000              0.650000            2.658350                 6  \n3   0.000000              0.616667            1.767967                 6  \n4   0.000000              0.833333            7.943517                 6  ",
      "text/html": "<div>\n<style scoped>\n    .dataframe tbody tr th:only-of-type {\n        vertical-align: middle;\n    }\n\n    .dataframe tbody tr th {\n        vertical-align: top;\n    }\n\n    .dataframe thead th {\n        text-align: right;\n    }\n</style>\n<table border=\"1\" class=\"dataframe\">\n  <thead>\n    <tr style=\"text-align: right;\">\n      <th></th>\n      <th>Customer</th>\n      <th>Arrival Time</th>\n      <th>Parking Preference</th>\n      <th>Service time Fuel</th>\n      <th>Shop time</th>\n      <th>Service time payment</th>\n      <th>Interarrival Times</th>\n      <th>Arrival Time (H)</th>\n    </tr>\n  </thead>\n  <tbody>\n    <tr>\n      <th>0</th>\n      <td>0</td>\n      <td>2024-02-01 06:00:06.644</td>\n      <td>NaN</td>\n      <td>3.016667</td>\n      <td>0.000000</td>\n      <td>0.766667</td>\n      <td>0.110733</td>\n      <td>6</td>\n    </tr>\n    <tr>\n      <th>1</th>\n      <td>1</td>\n      <td>2024-02-01 06:03:05.847</td>\n      <td>Left</td>\n      <td>2.633333</td>\n      <td>0.483333</td>\n      <td>0.633333</td>\n      <td>2.986717</td>\n      <td>6</td>\n    </tr>\n    <tr>\n      <th>2</th>\n      <td>2</td>\n      <td>2024-02-01 06:05:45.348</td>\n      <td>NaN</td>\n      <td>5.950000</td>\n      <td>0.000000</td>\n      <td>0.650000</td>\n      <td>2.658350</td>\n      <td>6</td>\n    </tr>\n    <tr>\n      <th>3</th>\n      <td>3</td>\n      <td>2024-02-01 06:07:31.426</td>\n      <td>Right</td>\n      <td>13.366667</td>\n      <td>0.000000</td>\n      <td>0.616667</td>\n      <td>1.767967</td>\n      <td>6</td>\n    </tr>\n    <tr>\n      <th>4</th>\n      <td>4</td>\n      <td>2024-02-01 06:15:28.037</td>\n      <td>Right</td>\n      <td>5.983333</td>\n      <td>0.000000</td>\n      <td>0.833333</td>\n      <td>7.943517</td>\n      <td>6</td>\n    </tr>\n  </tbody>\n</table>\n</div>"
     },
     "execution_count": 4,
     "metadata": {},
     "output_type": "execute_result"
    }
   ],
   "source": [
    "# data converted into minutes\n",
    "for attribute in list_of_attributes:\n",
    "    data[attribute] = data[attribute] / 60\n",
    "\n",
    "data.head()"
   ]
  },
  {
   "cell_type": "code",
   "execution_count": 5,
   "metadata": {
    "ExecuteTime": {
     "end_time": "2024-03-25T09:09:50.057304119Z",
     "start_time": "2024-03-25T09:09:48.879476535Z"
    }
   },
   "outputs": [
    {
     "data": {
      "text/plain": "<Figure size 1000x1000 with 6 Axes>",
      "image/png": "[encoded data removed]"
     },
     "metadata": {},
     "output_type": "display_data"
    }
   ],
   "source": [
    "import matplotlib.pyplot as plt\n",
    "fig, axs = plt.subplots(3, 2, figsize=(10, 10))\n",
    "\n",
    "# axs[0,0].hist(data[\"Parking Preference\"], bins=30)\n",
    "# axs[0,0].set_title(\"Parking Preference\")\n",
    "\n",
    "axs[0,1].hist(data[\"Service time Fuel\"], bins=30)\n",
    "axs[0,1].set_title(\"Service time Fuel\")\n",
    "\n",
    "axs[1,0].hist(data[\"Shop time\"], bins=30)\n",
    "axs[1,0].set_title(\"Shop time\")\n",
    "\n",
    "axs[1,1].hist(data[\"Service time payment\"], bins=18)\n",
    "axs[1,1].set_title(\"Service time payment\")\n",
    "\n",
    "axs[2,0].hist(data[\"Interarrival Times\"], bins=30)\n",
    "axs[2,0].set_title(\"Interarrival Times\")\n",
    "\n",
    "# axs[0,0].hist(interarrival_times, bins=30)\n",
    "# axs[1].hist(fuel_time, bins=20)\n",
    "# axs[2].hist(shop_time, bins= math.floor(np.sqrt(len(shop_time))))\n",
    "# axs[2].set_xlim(0, 200)\n",
    "\n",
    "# show the plot\n",
    "plt.show()"
   ]
  },
  {
   "cell_type": "markdown",
   "metadata": {},
   "source": [
    "__Testing underlying distributions__"
   ]
  },
  {
   "cell_type": "code",
   "execution_count": 6,
   "metadata": {
    "ExecuteTime": {
     "end_time": "2024-03-25T09:09:50.057963565Z",
     "start_time": "2024-03-25T09:09:50.051597054Z"
    }
   },
   "outputs": [
    {
     "name": "stdout",
     "output_type": "stream",
     "text": [
      "0.7767220902612827 0.22327790973871733\n"
     ]
    }
   ],
   "source": [
    "# conver the shop time into a binary variable\n",
    "shop_time = data[\"Shop time\"]\n",
    "shop_time = shop_time.apply(lambda x: 1 if x > 0 else 0)\n",
    "\n",
    "count_1 = shop_time[shop_time == 1].count()\n",
    "count_0 = shop_time[shop_time == 0].count()\n",
    "\n",
    "percentage_1 = count_1 / (count_1 + count_0)\n",
    "percentage_0 = count_0 / (count_1 + count_0)\n",
    "\n",
    "print (percentage_0, percentage_1)\n"
   ]
  },
  {
   "cell_type": "code",
   "execution_count": 7,
   "metadata": {
    "ExecuteTime": {
     "end_time": "2024-03-25T09:09:50.069384561Z",
     "start_time": "2024-03-25T09:09:50.054854591Z"
    }
   },
   "outputs": [
    {
     "name": "stdout",
     "output_type": "stream",
     "text": [
      "0.07600950118764846 0.09501187648456057 0.828978622327791\n"
     ]
    }
   ],
   "source": [
    "preference = data[\"Parking Preference\"]\n",
    "\n",
    "count_right = preference[preference == \"Right\"].count()\n",
    "count_left = preference[preference == \"Left\"].count()\n",
    "count_non = len(preference) - count_right - count_left\n",
    "\n",
    "percentage_right = count_right / (count_right + count_left + count_non)\n",
    "percentage_left = count_left / (count_right + count_left + count_non)\n",
    "percentage_non = count_non / (count_right + count_left + count_non)\n",
    "\n",
    "print (percentage_right, percentage_left, percentage_non)"
   ]
  },
  {
   "cell_type": "code",
   "execution_count": 8,
   "metadata": {
    "ExecuteTime": {
     "end_time": "2024-03-25T09:09:50.176315468Z",
     "start_time": "2024-03-25T09:09:50.074562510Z"
    }
   },
   "outputs": [
    {
     "name": "stdout",
     "output_type": "stream",
     "text": [
      "------------------Testing for Service time Fuel-------------------\n",
      "Exponential Distribution\n",
      "KstestResult(statistic=0.9842450696427638, pvalue=0.0, statistic_location=0.9833333333333333, statistic_sign=-1)\n",
      "Bad fit since p-value is less than 0.05\n",
      "\n",
      "Gamma Distribution\n",
      "KstestResult(statistic=0.02747489986893359, pvalue=0.8995139987322627, statistic_location=4.85, statistic_sign=-1)\n",
      "Good fit since p-value is greater than 0.05\n",
      "\n",
      "Poisson Distribution\n",
      "KstestResult(statistic=0.13832457163201312, pvalue=1.72860874063975e-07, statistic_location=3.9833333333333334, statistic_sign=1)\n",
      "Bad fit since p-value is less than 0.05\n",
      "\n",
      "Normal Distribution\n",
      "KstestResult(statistic=0.2616552291792664, pvalue=6.404278269894486e-26, statistic_location=0.9833333333333333, statistic_sign=-1)\n",
      "Bad fit since p-value is less than 0.05\n",
      "M1: 4.833174980205859\n",
      "M2: 29.60421879123779\n",
      "Estimated alpha: 3.7407418789843607\n",
      "Estimated beta: 0.7739719530752498\n",
      "Estimated std: 6.244638401949885\n",
      "----------------------------------------------------------\n",
      "\n",
      "------------------Testing for Shop time-------------------\n",
      "Exponential Distribution\n",
      "KstestResult(statistic=0.15376858308697036, pvalue=0.020895359351769567, statistic_location=0.43333333333333335, statistic_sign=-1)\n",
      "Bad fit since p-value is less than 0.05\n",
      "\n",
      "Gamma Distribution\n",
      "KstestResult(statistic=0.06781579438961027, pvalue=0.7543607420707598, statistic_location=0.4, statistic_sign=-1)\n",
      "Good fit since p-value is greater than 0.05\n",
      "\n",
      "Poisson Distribution\n",
      "KstestResult(statistic=0.30947674084470506, pvalue=1.7099776633906116e-08, statistic_location=0.016666666666666666, statistic_sign=-1)\n",
      "Bad fit since p-value is less than 0.05\n",
      "\n",
      "Normal Distribution\n",
      "KstestResult(statistic=0.20276714812412072, pvalue=0.0007269499832698848, statistic_location=0.016666666666666666, statistic_sign=-1)\n",
      "Bad fit since p-value is less than 0.05\n",
      "M1: 1.1728723404255321\n",
      "M2: 2.765670803782506\n",
      "Estimated alpha: 0.9896321424751771\n",
      "Estimated beta: 0.8437679944913072\n",
      "Estimated std: 1.3900412768472405\n",
      "----------------------------------------------------------\n",
      "\n",
      "------------------Testing for Service time payment-------------------\n",
      "Exponential Distribution\n",
      "KstestResult(statistic=0.5029950545202906, pvalue=1.5514560284305005e-22, statistic_location=0.9166666666666666, statistic_sign=1)\n",
      "Bad fit since p-value is less than 0.05\n",
      "\n",
      "Gamma Distribution\n",
      "KstestResult(statistic=0.07906121672562061, pvalue=0.5720006406747342, statistic_location=0.6333333333333333, statistic_sign=1)\n",
      "Good fit since p-value is greater than 0.05\n",
      "\n",
      "Poisson Distribution\n",
      "KstestResult(statistic=0.5274659116860858, pvalue=6.568606383173078e-25, statistic_location=0.9166666666666666, statistic_sign=1)\n",
      "Bad fit since p-value is less than 0.05\n",
      "\n",
      "Normal Distribution\n",
      "KstestResult(statistic=0.4420980277757488, pvalue=2.9688489130455045e-17, statistic_location=0.7666666666666667, statistic_sign=-1)\n",
      "Bad fit since p-value is less than 0.05\n",
      "M1: 0.7496453900709219\n",
      "M2: 0.57072695035461\n",
      "Estimated alpha: 64.16085452169962\n",
      "Estimated beta: 85.58827329763147\n",
      "Estimated std: 0.008758739500025259\n",
      "----------------------------------------------------------\n",
      "\n",
      "------------------Testing for Interarrival Times-------------------\n",
      "Exponential Distribution\n",
      "KstestResult(statistic=0.6123064245248613, pvalue=2.1350786132539203e-34, statistic_location=0.7861833333333333, statistic_sign=-1)\n",
      "Bad fit since p-value is less than 0.05\n",
      "\n",
      "Gamma Distribution\n",
      "KstestResult(statistic=0.059861940209370745, pvalue=0.8689306940111292, statistic_location=2.483166666666667, statistic_sign=-1)\n",
      "Good fit since p-value is greater than 0.05\n",
      "\n",
      "Poisson Distribution\n",
      "KstestResult(statistic=0.2302795915138378, pvalue=7.272869100609831e-05, statistic_location=1.9944833333333334, statistic_sign=1)\n",
      "Bad fit since p-value is less than 0.05\n",
      "\n",
      "Normal Distribution\n",
      "KstestResult(statistic=0.3314893557941554, pvalue=1.0462511924526882e-09, statistic_location=0.0144, statistic_sign=-1)\n",
      "Bad fit since p-value is less than 0.05\n",
      "M1: 2.3824867021276597\n",
      "M2: 11.110073187473406\n",
      "Estimated alpha: 1.044611732553164\n",
      "Estimated beta: 0.43845438113895135\n",
      "Estimated std: 5.433830301658274\n",
      "----------------------------------------------------------\n"
     ]
    }
   ],
   "source": [
    "for attribute in list_of_attributes:\n",
    "\n",
    "    # remove all zeros\n",
    "    data = data[data[attribute] != 0]\n",
    "    # remove all nan\n",
    "\n",
    "    print(f\"------------------Testing for {attribute}-------------------\")\n",
    "\n",
    "    # exponential distribution\n",
    "    M1 = np.mean(data[attribute])\n",
    "    fitExponentialDist = stats.expon(scale = 1 / M1)\n",
    "    test = stats.kstest(data[attribute], fitExponentialDist.cdf)\n",
    "    print(\"Exponential Distribution\")\n",
    "    print(test)\n",
    "    if test[1] < 0.05:\n",
    "        print(\"Bad fit since p-value is less than 0.05\")\n",
    "    else: \n",
    "        print(\"Good fit since p-value is greater than 0.05\")\n",
    "    \n",
    "    print(\"\")\n",
    "\n",
    "    # gamma distribution\n",
    "    M2 = np.mean([x**2 for x in data[attribute]])\n",
    "    estBeta = M1 / (M2 - M1**2)\n",
    "    estAlpha = M1 * estBeta\n",
    "    fitGammaDist = stats.gamma(a = estAlpha, scale = 1 / estBeta)\n",
    "    test = stats.kstest(data[attribute], fitGammaDist.cdf)\n",
    "    print(\"Gamma Distribution\")\n",
    "    print(test)\n",
    "    if test[1] < 0.05:\n",
    "        print(\"Bad fit since p-value is less than 0.05\")\n",
    "    else: \n",
    "        print(\"Good fit since p-value is greater than 0.05\")\n",
    "    \n",
    "    print(\"\")\n",
    "\n",
    "    # poisson distribution\n",
    "    fiPoissonDist = stats.poisson(mu = M1)\n",
    "    test = stats.kstest(data[attribute], fiPoissonDist.cdf)\n",
    "    print(\"Poisson Distribution\")\n",
    "    print(test)\n",
    "    if test[1] < 0.05:\n",
    "        print(\"Bad fit since p-value is less than 0.05\")\n",
    "    else: \n",
    "        print(\"Good fit since p-value is greater than 0.05\")\n",
    "\n",
    "    print(\"\")\n",
    "\n",
    "    # normal distribution\n",
    "    estimated_std = M2 - M1**2\n",
    "    fitNormalDist = stats.norm(loc = M1, scale = estimated_std)\n",
    "    test = stats.kstest(data[attribute], fitNormalDist.cdf)\n",
    "    print(\"Normal Distribution\")\n",
    "    print(test)\n",
    "    if test[1] < 0.05:\n",
    "        print(\"Bad fit since p-value is less than 0.05\")\n",
    "    else: \n",
    "        print(\"Good fit since p-value is greater than 0.05\")\n",
    "\n",
    "    \n",
    "    print(f\"M1: {M1}\")\n",
    "    print(f\"M2: {M2}\")\n",
    "    print(f\"Estimated alpha: {estAlpha}\")\n",
    "    print(f\"Estimated beta: {estBeta}\")\n",
    "    print(f\"Estimated std: {estimated_std}\")\n",
    "    \n",
    "    print(\"----------------------------------------------------------\")\n",
    "    print(\"\")"
   ]
  },
  {
   "cell_type": "code",
   "execution_count": 9,
   "metadata": {
    "collapsed": false,
    "ExecuteTime": {
     "end_time": "2024-03-25T09:09:50.176739461Z",
     "start_time": "2024-03-25T09:09:50.115334048Z"
    }
   },
   "outputs": [
    {
     "data": {
      "text/plain": "Index(['Customer', 'Arrival Time', 'Parking Preference', 'Service time Fuel',\n       'Shop time', 'Service time payment', 'Interarrival Times',\n       'Arrival Time (H)'],\n      dtype='object')"
     },
     "execution_count": 9,
     "metadata": {},
     "output_type": "execute_result"
    }
   ],
   "source": [
    "data.columns"
   ]
  },
  {
   "cell_type": "code",
   "execution_count": 10,
   "metadata": {
    "collapsed": false,
    "ExecuteTime": {
     "end_time": "2024-03-25T09:09:52.228074279Z",
     "start_time": "2024-03-25T09:09:50.115565266Z"
    }
   },
   "outputs": [
    {
     "data": {
      "text/plain": "''"
     },
     "execution_count": 10,
     "metadata": {},
     "output_type": "execute_result"
    },
    {
     "data": {
      "text/plain": "<Figure size 2000x2000 with 16 Axes>",
      "image/png": "[encoded data removed]"
     },
     "metadata": {},
     "output_type": "display_data"
    }
   ],
   "source": [
    "# SPLOM\n",
    "fig, axs = plt.subplots(4, 4, figsize=(20, 20))\n",
    "# axs[0,0].scatter(data[\"Service time Fuel\"], data[\"Service time Fuel\"])\n",
    "axs[0,0].violinplot(data[\"Service time Fuel\"])\n",
    "\n",
    "axs[0,1].scatter(data[\"Service time Fuel\"], data[\"Service time payment\"])\n",
    "axs[0,1].set_xlabel(\"Service Time Fuel\")\n",
    "axs[0,1].set_ylabel(\"Service Time Payment\")\n",
    "\n",
    "axs[0,2].scatter(data[\"Service time Fuel\"], data[\"Shop time\"])\n",
    "axs[0,2].set_xlabel(\"Service Time Fuel\")\n",
    "axs[0,2].set_ylabel(\"Shop Time\")\n",
    "\n",
    "axs[0,3].scatter(data[\"Service time Fuel\"], data[\"Arrival Time (H)\"])\n",
    "axs[0,3].set_xlabel(\"Service Time Fuel\")\n",
    "axs[0,3].set_ylabel(\"Arrival Time (H)\")\n",
    "\n",
    "\n",
    "\n",
    "axs[1,0].scatter(data[\"Service time payment\"], data[\"Service time Fuel\"])\n",
    "axs[1,0].set_xlabel(\"Service Time Payment\")\n",
    "axs[1,0].set_ylabel(\"Service Time Fuel\")\n",
    "\n",
    "axs[1,1].violinplot(data[\"Service time payment\"])\n",
    "\n",
    "axs[1,2].scatter(data[\"Service time payment\"], data[\"Shop time\"])\n",
    "axs[1,2].set_xlabel(\"Service Time Payment\")\n",
    "axs[1,2].set_ylabel(\"Shop Time\")\n",
    "\n",
    "\n",
    "axs[1,3].scatter(data[\"Service time payment\"], data[\"Arrival Time (H)\"])\n",
    "axs[1,3].set_xlabel(\"Service Time Payment\")\n",
    "axs[1,3].set_ylabel(\"Arrival Time (H)\")\n",
    "\n",
    "axs[2,0].scatter(data[\"Shop time\"], data[\"Service time Fuel\"])\n",
    "axs[2,0].set_xlabel(\"Shop Time\")\n",
    "axs[2,0].set_ylabel(\"Service Time Fuel\")\n",
    "\n",
    "axs[2,1].scatter(data[\"Shop time\"], data[\"Service time payment\"])\n",
    "axs[2,1].set_xlabel(\"Shop Time\")\n",
    "axs[2,1].set_ylabel(\"Service Time Payment\")\n",
    "\n",
    "axs[2,2].violinplot( data[\"Shop time\"])\n",
    "\n",
    "axs[2,3].scatter(data[\"Shop time\"], data[\"Arrival Time (H)\"])\n",
    "axs[2,3].set_xlabel(\"Shop Time\")\n",
    "axs[2,3].set_ylabel(\"Arrival Time (H)\")\n",
    "\n",
    "\n",
    "\n",
    "axs[3,0].scatter(data[\"Arrival Time (H)\"], data[\"Service time Fuel\"])\n",
    "axs[3,0].set_xlabel(\"Arrival Time (H)\")\n",
    "axs[3,0].set_ylabel(\"Service Time Fuel\")\n",
    "\n",
    "axs[3,1].scatter(data[\"Arrival Time (H)\"], data[\"Service time payment\"])\n",
    "axs[3,1].set_xlabel(\"Arrival Time (H)\")\n",
    "axs[3,1].set_ylabel(\"Service Time Payment\")\n",
    "\n",
    "\n",
    "\n",
    "axs[3,2].scatter(data[\"Arrival Time (H)\"], data[\"Shop time\"])\n",
    "axs[3,2].set_xlabel(\"Arrival Time (H)\")\n",
    "axs[3,2].set_ylabel(\"Shop Time\")\n",
    "\n",
    "axs[3,3].hist( data[\"Arrival Time (H)\"])\n",
    "\n",
    "\n",
    "\n",
    "\n",
    ";"
   ]
  },
  {
   "cell_type": "code",
   "execution_count": 24,
   "metadata": {
    "collapsed": false,
    "ExecuteTime": {
     "end_time": "2024-03-25T09:16:24.897415727Z",
     "start_time": "2024-03-25T09:16:24.843992826Z"
    }
   },
   "outputs": [
    {
     "data": {
      "application/vnd.plotly.v1+json": {
       "data": [
        {
         "dimensions": [
          {
           "label": "Parking Preference (bin)",
           "values": [
            1,
            0,
            0,
            1,
            0,
            0,
            0,
            0,
            0,
            0,
            0,
            0,
            0,
            0,
            1,
            0,
            0,
            0,
            0,
            0,
            0,
            0,
            1,
            0,
            0,
            0,
            0,
            0,
            0,
            0,
            2,
            0,
            0,
            0,
            0,
            0,
            2,
            0,
            0,
            0,
            0,
            0,
            0,
            0,
            0,
            0,
            2,
            1,
            0,
            0,
            0,
            0,
            0,
            2,
            0,
            0,
            0,
            0,
            0,
            0,
            1,
            0,
            0,
            1,
            0,
            0,
            0,
            0,
            0,
            0,
            2,
            0,
            0,
            0,
            0,
            2,
            0,
            0,
            1,
            0,
            0,
            2,
            0,
            0,
            2,
            0,
            1,
            0,
            0,
            0,
            0,
            0,
            2,
            0
           ]
          },
          {
           "label": "Interarrival Times",
           "values": [
            2.9867166666666667,
            1.5053833333333333,
            0.09558333333333334,
            0.69645,
            1.7561666666666667,
            2.656,
            5.816083333333333,
            0.46476666666666666,
            0.29261666666666664,
            5.738883333333334,
            1.1534499999999999,
            3.10005,
            0.2659333333333333,
            2.483166666666667,
            0.6546833333333333,
            0.6068333333333332,
            2.5503833333333334,
            0.0144,
            0.7861833333333333,
            2.9927166666666665,
            1.4217666666666666,
            5.51025,
            1.2866166666666667,
            1.0329,
            0.03726666666666667,
            1.5497333333333332,
            3.2212166666666664,
            2.844,
            0.032016666666666665,
            2.6182666666666665,
            1.5315333333333332,
            1.7627,
            3.9805333333333333,
            0.11603333333333334,
            1.1479166666666667,
            0.3698166666666667,
            1.01795,
            5.8129333333333335,
            3.302983333333333,
            0.61095,
            2.366333333333333,
            0.7863666666666667,
            3.1210166666666668,
            0.4644833333333333,
            13.9005,
            4.010816666666667,
            10.640416666666665,
            0.8456833333333333,
            2.6194833333333336,
            2.740083333333333,
            1.9944833333333334,
            0.018899999999999997,
            0.787,
            1.8567166666666668,
            0.2712,
            1.3915666666666666,
            7.609816666666666,
            0.6363333333333333,
            0.70305,
            1.1084333333333334,
            2.6097333333333332,
            5.425116666666667,
            4.827116666666667,
            1.2825833333333334,
            3.575283333333333,
            2.97275,
            2.5002166666666668,
            0.8972666666666667,
            1.4582833333333334,
            2.0723333333333334,
            0.2868,
            0.31616666666666665,
            3.2253666666666665,
            8.002083333333333,
            4.95775,
            1.5020166666666666,
            2.83845,
            4.363483333333334,
            2.006866666666667,
            0.4082166666666666,
            1.2252,
            1.5877333333333332,
            5.050233333333334,
            2.7036333333333333,
            4.07705,
            1.5039833333333334,
            7.579183333333333,
            2.21125,
            0.8842833333333334,
            0.84755,
            0.9715166666666666,
            0.4200666666666667,
            2.6634666666666664,
            3.0042
           ]
          },
          {
           "label": "Shop time",
           "values": [
            0.48333333333333334,
            0.4,
            0.43333333333333335,
            0.55,
            0.5166666666666667,
            2.1666666666666665,
            2.6666666666666665,
            2.2,
            0.03333333333333333,
            0.03333333333333333,
            0.5333333333333333,
            1.8,
            0.45,
            0.43333333333333335,
            2.1166666666666667,
            0.5166666666666667,
            0.5666666666666667,
            1.6,
            0.4666666666666667,
            3.816666666666667,
            0.18333333333333332,
            0.21666666666666667,
            1.4166666666666667,
            3.1333333333333333,
            1.2666666666666666,
            1.4333333333333333,
            1.1666666666666667,
            0.8,
            0.11666666666666667,
            0.48333333333333334,
            0.8666666666666667,
            0.016666666666666666,
            0.8,
            0.75,
            1.6,
            1.1833333333333333,
            3.566666666666667,
            0.4666666666666667,
            0.8333333333333334,
            3.2333333333333334,
            0.5166666666666667,
            1.0833333333333333,
            0.6666666666666666,
            0.03333333333333333,
            1.9166666666666667,
            0.31666666666666665,
            0.3333333333333333,
            2.3333333333333335,
            1.8833333333333333,
            0.7166666666666667,
            0.2,
            2.25,
            3.95,
            0.16666666666666666,
            0.21666666666666667,
            0.5166666666666667,
            0.2,
            0.8,
            1.8833333333333333,
            0.6833333333333333,
            1.65,
            0.2,
            0.36666666666666664,
            0.4166666666666667,
            0.43333333333333335,
            2.6166666666666667,
            0.016666666666666666,
            2.35,
            2.2,
            0.016666666666666666,
            0.5833333333333334,
            0.8166666666666667,
            3.15,
            0.9666666666666667,
            0.95,
            0.1,
            0.8,
            0.9166666666666666,
            0.5166666666666667,
            0.5666666666666667,
            0.016666666666666666,
            0.6666666666666666,
            0.48333333333333334,
            1.4333333333333333,
            3.1,
            2.3666666666666667,
            0.3333333333333333,
            1.8166666666666667,
            7.4,
            2.8333333333333335,
            0.08333333333333333,
            2.4,
            1.2666666666666666,
            0.43333333333333335
           ]
          },
          {
           "label": "Service time Fuel",
           "values": [
            2.6333333333333333,
            2.8833333333333333,
            3.45,
            4.166666666666667,
            7.35,
            4.333333333333333,
            1.75,
            2.283333333333333,
            10.616666666666667,
            3.1666666666666665,
            5.15,
            3.05,
            4.55,
            2.8333333333333335,
            4.966666666666667,
            4.466666666666667,
            4.85,
            2.566666666666667,
            3.0166666666666666,
            4.616666666666666,
            6.883333333333334,
            3.8666666666666667,
            4.266666666666667,
            7.233333333333333,
            2.5,
            5.683333333333334,
            5.433333333333334,
            7.566666666666666,
            5.75,
            2.75,
            5.583333333333333,
            3.816666666666667,
            7.883333333333334,
            1.7,
            5.8,
            2.95,
            3.55,
            4.433333333333334,
            2.9833333333333334,
            2.4833333333333334,
            2.466666666666667,
            6.166666666666667,
            2.9166666666666665,
            1.9666666666666666,
            1.4666666666666666,
            2.2666666666666666,
            4.733333333333333,
            4.233333333333333,
            1.2,
            4.316666666666666,
            2.35,
            2.95,
            8.183333333333334,
            2.533333333333333,
            1.2,
            8.05,
            5.916666666666667,
            1.1333333333333333,
            2.35,
            2.1666666666666665,
            3.3333333333333335,
            2.95,
            1.7333333333333334,
            3.2666666666666666,
            5.033333333333333,
            7.133333333333334,
            4.933333333333334,
            5.583333333333333,
            3.933333333333333,
            4.533333333333333,
            2.95,
            5.333333333333333,
            1.9833333333333334,
            4.933333333333334,
            5.066666666666666,
            1.2333333333333334,
            7.966666666666667,
            3.3,
            2.3333333333333335,
            2.433333333333333,
            4.816666666666666,
            2.466666666666667,
            1.95,
            3.85,
            3.933333333333333,
            6.416666666666667,
            6.133333333333334,
            3.433333333333333,
            15.416666666666666,
            4.85,
            11.166666666666666,
            4.616666666666666,
            3.8833333333333333,
            5.633333333333334
           ]
          },
          {
           "label": "Service time payment",
           "values": [
            0.6333333333333333,
            0.8333333333333334,
            0.9166666666666666,
            0.6,
            0.9,
            0.7333333333333333,
            0.65,
            0.85,
            0.8833333333333333,
            0.7666666666666667,
            0.7833333333333333,
            0.7,
            0.7,
            0.8,
            0.7333333333333333,
            0.85,
            0.8833333333333333,
            0.9,
            0.7333333333333333,
            0.8666666666666667,
            0.75,
            0.6,
            0.65,
            0.9,
            0.6166666666666667,
            0.7833333333333333,
            0.7,
            0.7,
            0.7833333333333333,
            0.75,
            0.7,
            0.6,
            0.9,
            0.6833333333333333,
            0.7166666666666667,
            0.75,
            0.8,
            0.8,
            0.8,
            0.6166666666666667,
            0.5833333333333334,
            0.6333333333333333,
            0.7666666666666667,
            0.7,
            0.8333333333333334,
            0.7166666666666667,
            0.7666666666666667,
            0.7166666666666667,
            0.75,
            0.6166666666666667,
            0.9,
            0.7833333333333333,
            0.7166666666666667,
            0.9166666666666666,
            0.75,
            0.7166666666666667,
            0.7666666666666667,
            0.8833333333333333,
            0.7666666666666667,
            0.7,
            0.6333333333333333,
            0.8833333333333333,
            0.8166666666666667,
            0.65,
            0.7833333333333333,
            0.5833333333333334,
            0.8833333333333333,
            0.8333333333333334,
            0.7333333333333333,
            0.8833333333333333,
            0.75,
            0.7166666666666667,
            0.5833333333333334,
            0.8833333333333333,
            0.85,
            0.7,
            0.6666666666666666,
            0.6,
            0.6833333333333333,
            0.6166666666666667,
            0.8666666666666667,
            0.75,
            0.6166666666666667,
            0.7666666666666667,
            0.7833333333333333,
            0.6333333333333333,
            0.7166666666666667,
            0.8,
            0.8,
            0.8166666666666667,
            0.75,
            0.5833333333333334,
            0.7666666666666667,
            0.7833333333333333
           ]
          }
         ],
         "domain": {
          "x": [
           0.0,
           1.0
          ],
          "y": [
           0.0,
           1.0
          ]
         },
         "line": {
          "color": [
           0.6333333333333333,
           0.8333333333333334,
           0.9166666666666666,
           0.6,
           0.9,
           0.7333333333333333,
           0.65,
           0.85,
           0.8833333333333333,
           0.7666666666666667,
           0.7833333333333333,
           0.7,
           0.7,
           0.8,
           0.7333333333333333,
           0.85,
           0.8833333333333333,
           0.9,
           0.7333333333333333,
           0.8666666666666667,
           0.75,
           0.6,
           0.65,
           0.9,
           0.6166666666666667,
           0.7833333333333333,
           0.7,
           0.7,
           0.7833333333333333,
           0.75,
           0.7,
           0.6,
           0.9,
           0.6833333333333333,
           0.7166666666666667,
           0.75,
           0.8,
           0.8,
           0.8,
           0.6166666666666667,
           0.5833333333333334,
           0.6333333333333333,
           0.7666666666666667,
           0.7,
           0.8333333333333334,
           0.7166666666666667,
           0.7666666666666667,
           0.7166666666666667,
           0.75,
           0.6166666666666667,
           0.9,
           0.7833333333333333,
           0.7166666666666667,
           0.9166666666666666,
           0.75,
           0.7166666666666667,
           0.7666666666666667,
           0.8833333333333333,
           0.7666666666666667,
           0.7,
           0.6333333333333333,
           0.8833333333333333,
           0.8166666666666667,
           0.65,
           0.7833333333333333,
           0.5833333333333334,
           0.8833333333333333,
           0.8333333333333334,
           0.7333333333333333,
           0.8833333333333333,
           0.75,
           0.7166666666666667,
           0.5833333333333334,
           0.8833333333333333,
           0.85,
           0.7,
           0.6666666666666666,
           0.6,
           0.6833333333333333,
           0.6166666666666667,
           0.8666666666666667,
           0.75,
           0.6166666666666667,
           0.7666666666666667,
           0.7833333333333333,
           0.6333333333333333,
           0.7166666666666667,
           0.8,
           0.8,
           0.8166666666666667,
           0.75,
           0.5833333333333334,
           0.7666666666666667,
           0.7833333333333333
          ],
          "coloraxis": "coloraxis"
         },
         "name": "",
         "type": "parcoords"
        }
       ],
       "layout": {
        "template": {
         "data": {
          "histogram2dcontour": [
           {
            "type": "histogram2dcontour",
            "colorbar": {
             "outlinewidth": 0,
             "ticks": ""
            },
            "colorscale": [
             [
              0.0,
              "#0d0887"
             ],
             [
              0.1111111111111111,
              "#46039f"
             ],
             [
              0.2222222222222222,
              "#7201a8"
             ],
             [
              0.3333333333333333,
              "#9c179e"
             ],
             [
              0.4444444444444444,
              "#bd3786"
             ],
             [
              0.5555555555555556,
              "#d8576b"
             ],
             [
              0.6666666666666666,
              "#ed7953"
             ],
             [
              0.7777777777777778,
              "#fb9f3a"
             ],
             [
              0.8888888888888888,
              "#fdca26"
             ],
             [
              1.0,
              "#f0f921"
             ]
            ]
           }
          ],
          "choropleth": [
           {
            "type": "choropleth",
            "colorbar": {
             "outlinewidth": 0,
             "ticks": ""
            }
           }
          ],
          "histogram2d": [
           {
            "type": "histogram2d",
            "colorbar": {
             "outlinewidth": 0,
             "ticks": ""
            },
            "colorscale": [
             [
              0.0,
              "#0d0887"
             ],
             [
              0.1111111111111111,
              "#46039f"
             ],
             [
              0.2222222222222222,
              "#7201a8"
             ],
             [
              0.3333333333333333,
              "#9c179e"
             ],
             [
              0.4444444444444444,
              "#bd3786"
             ],
             [
              0.5555555555555556,
              "#d8576b"
             ],
             [
              0.6666666666666666,
              "#ed7953"
             ],
             [
              0.7777777777777778,
              "#fb9f3a"
             ],
             [
              0.8888888888888888,
              "#fdca26"
             ],
             [
              1.0,
              "#f0f921"
             ]
            ]
           }
          ],
          "heatmap": [
           {
            "type": "heatmap",
            "colorbar": {
             "outlinewidth": 0,
             "ticks": ""
            },
            "colorscale": [
             [
              0.0,
              "#0d0887"
             ],
             [
              0.1111111111111111,
              "#46039f"
             ],
             [
              0.2222222222222222,
              "#7201a8"
             ],
             [
              0.3333333333333333,
              "#9c179e"
             ],
             [
              0.4444444444444444,
              "#bd3786"
             ],
             [
              0.5555555555555556,
              "#d8576b"
             ],
             [
              0.6666666666666666,
              "#ed7953"
             ],
             [
              0.7777777777777778,
              "#fb9f3a"
             ],
             [
              0.8888888888888888,
              "#fdca26"
             ],
             [
              1.0,
              "#f0f921"
             ]
            ]
           }
          ],
          "heatmapgl": [
           {
            "type": "heatmapgl",
            "colorbar": {
             "outlinewidth": 0,
             "ticks": ""
            },
            "colorscale": [
             [
              0.0,
              "#0d0887"
             ],
             [
              0.1111111111111111,
              "#46039f"
             ],
             [
              0.2222222222222222,
              "#7201a8"
             ],
             [
              0.3333333333333333,
              "#9c179e"
             ],
             [
              0.4444444444444444,
              "#bd3786"
             ],
             [
              0.5555555555555556,
              "#d8576b"
             ],
             [
              0.6666666666666666,
              "#ed7953"
             ],
             [
              0.7777777777777778,
              "#fb9f3a"
             ],
             [
              0.8888888888888888,
              "#fdca26"
             ],
             [
              1.0,
              "#f0f921"
             ]
            ]
           }
          ],
          "contourcarpet": [
           {
            "type": "contourcarpet",
            "colorbar": {
             "outlinewidth": 0,
             "ticks": ""
            }
           }
          ],
          "contour": [
           {
            "type": "contour",
            "colorbar": {
             "outlinewidth": 0,
             "ticks": ""
            },
            "colorscale": [
             [
              0.0,
              "#0d0887"
             ],
             [
              0.1111111111111111,
              "#46039f"
             ],
             [
              0.2222222222222222,
              "#7201a8"
             ],
             [
              0.3333333333333333,
              "#9c179e"
             ],
             [
              0.4444444444444444,
              "#bd3786"
             ],
             [
              0.5555555555555556,
              "#d8576b"
             ],
             [
              0.6666666666666666,
              "#ed7953"
             ],
             [
              0.7777777777777778,
              "#fb9f3a"
             ],
             [
              0.8888888888888888,
              "#fdca26"
             ],
             [
              1.0,
              "#f0f921"
             ]
            ]
           }
          ],
          "surface": [
           {
            "type": "surface",
            "colorbar": {
             "outlinewidth": 0,
             "ticks": ""
            },
            "colorscale": [
             [
              0.0,
              "#0d0887"
             ],
             [
              0.1111111111111111,
              "#46039f"
             ],
             [
              0.2222222222222222,
              "#7201a8"
             ],
             [
              0.3333333333333333,
              "#9c179e"
             ],
             [
              0.4444444444444444,
              "#bd3786"
             ],
             [
              0.5555555555555556,
              "#d8576b"
             ],
             [
              0.6666666666666666,
              "#ed7953"
             ],
             [
              0.7777777777777778,
              "#fb9f3a"
             ],
             [
              0.8888888888888888,
              "#fdca26"
             ],
             [
              1.0,
              "#f0f921"
             ]
            ]
           }
          ],
          "mesh3d": [
           {
            "type": "mesh3d",
            "colorbar": {
             "outlinewidth": 0,
             "ticks": ""
            }
           }
          ],
          "scatter": [
           {
            "marker": {
             "line": {
              "color": "#283442"
             }
            },
            "type": "scatter"
           }
          ],
          "parcoords": [
           {
            "type": "parcoords",
            "line": {
             "colorbar": {
              "outlinewidth": 0,
              "ticks": ""
             }
            }
           }
          ],
          "scatterpolargl": [
           {
            "type": "scatterpolargl",
            "marker": {
             "colorbar": {
              "outlinewidth": 0,
              "ticks": ""
             }
            }
           }
          ],
          "bar": [
           {
            "error_x": {
             "color": "#f2f5fa"
            },
            "error_y": {
             "color": "#f2f5fa"
            },
            "marker": {
             "line": {
              "color": "rgb(17,17,17)",
              "width": 0.5
             },
             "pattern": {
              "fillmode": "overlay",
              "size": 10,
              "solidity": 0.2
             }
            },
            "type": "bar"
           }
          ],
          "scattergeo": [
           {
            "type": "scattergeo",
            "marker": {
             "colorbar": {
              "outlinewidth": 0,
              "ticks": ""
             }
            }
           }
          ],
          "scatterpolar": [
           {
            "type": "scatterpolar",
            "marker": {
             "colorbar": {
              "outlinewidth": 0,
              "ticks": ""
             }
            }
           }
          ],
          "histogram": [
           {
            "marker": {
             "pattern": {
              "fillmode": "overlay",
              "size": 10,
              "solidity": 0.2
             }
            },
            "type": "histogram"
           }
          ],
          "scattergl": [
           {
            "marker": {
             "line": {
              "color": "#283442"
             }
            },
            "type": "scattergl"
           }
          ],
          "scatter3d": [
           {
            "type": "scatter3d",
            "line": {
             "colorbar": {
              "outlinewidth": 0,
              "ticks": ""
             }
            },
            "marker": {
             "colorbar": {
              "outlinewidth": 0,
              "ticks": ""
             }
            }
           }
          ],
          "scattermapbox": [
           {
            "type": "scattermapbox",
            "marker": {
             "colorbar": {
              "outlinewidth": 0,
              "ticks": ""
             }
            }
           }
          ],
          "scatterternary": [
           {
            "type": "scatterternary",
            "marker": {
             "colorbar": {
              "outlinewidth": 0,
              "ticks": ""
             }
            }
           }
          ],
          "scattercarpet": [
           {
            "type": "scattercarpet",
            "marker": {
             "colorbar": {
              "outlinewidth": 0,
              "ticks": ""
             }
            }
           }
          ],
          "carpet": [
           {
            "aaxis": {
             "endlinecolor": "#A2B1C6",
             "gridcolor": "#506784",
             "linecolor": "#506784",
             "minorgridcolor": "#506784",
             "startlinecolor": "#A2B1C6"
            },
            "baxis": {
             "endlinecolor": "#A2B1C6",
             "gridcolor": "#506784",
             "linecolor": "#506784",
             "minorgridcolor": "#506784",
             "startlinecolor": "#A2B1C6"
            },
            "type": "carpet"
           }
          ],
          "table": [
           {
            "cells": {
             "fill": {
              "color": "#506784"
             },
             "line": {
              "color": "rgb(17,17,17)"
             }
            },
            "header": {
             "fill": {
              "color": "#2a3f5f"
             },
             "line": {
              "color": "rgb(17,17,17)"
             }
            },
            "type": "table"
           }
          ],
          "barpolar": [
           {
            "marker": {
             "line": {
              "color": "rgb(17,17,17)",
              "width": 0.5
             },
             "pattern": {
              "fillmode": "overlay",
              "size": 10,
              "solidity": 0.2
             }
            },
            "type": "barpolar"
           }
          ],
          "pie": [
           {
            "automargin": true,
            "type": "pie"
           }
          ]
         },
         "layout": {
          "autotypenumbers": "strict",
          "colorway": [
           "#636efa",
           "#EF553B",
           "#00cc96",
           "#ab63fa",
           "#FFA15A",
           "#19d3f3",
           "#FF6692",
           "#B6E880",
           "#FF97FF",
           "#FECB52"
          ],
          "font": {
           "color": "#f2f5fa"
          },
          "hovermode": "closest",
          "hoverlabel": {
           "align": "left"
          },
          "paper_bgcolor": "rgb(17,17,17)",
          "plot_bgcolor": "rgb(17,17,17)",
          "polar": {
           "bgcolor": "rgb(17,17,17)",
           "angularaxis": {
            "gridcolor": "#506784",
            "linecolor": "#506784",
            "ticks": ""
           },
           "radialaxis": {
            "gridcolor": "#506784",
            "linecolor": "#506784",
            "ticks": ""
           }
          },
          "ternary": {
           "bgcolor": "rgb(17,17,17)",
           "aaxis": {
            "gridcolor": "#506784",
            "linecolor": "#506784",
            "ticks": ""
           },
           "baxis": {
            "gridcolor": "#506784",
            "linecolor": "#506784",
            "ticks": ""
           },
           "caxis": {
            "gridcolor": "#506784",
            "linecolor": "#506784",
            "ticks": ""
           }
          },
          "coloraxis": {
           "colorbar": {
            "outlinewidth": 0,
            "ticks": ""
           }
          },
          "colorscale": {
           "sequential": [
            [
             0.0,
             "#0d0887"
            ],
            [
             0.1111111111111111,
             "#46039f"
            ],
            [
             0.2222222222222222,
             "#7201a8"
            ],
            [
             0.3333333333333333,
             "#9c179e"
            ],
            [
             0.4444444444444444,
             "#bd3786"
            ],
            [
             0.5555555555555556,
             "#d8576b"
            ],
            [
             0.6666666666666666,
             "#ed7953"
            ],
            [
             0.7777777777777778,
             "#fb9f3a"
            ],
            [
             0.8888888888888888,
             "#fdca26"
            ],
            [
             1.0,
             "#f0f921"
            ]
           ],
           "sequentialminus": [
            [
             0.0,
             "#0d0887"
            ],
            [
             0.1111111111111111,
             "#46039f"
            ],
            [
             0.2222222222222222,
             "#7201a8"
            ],
            [
             0.3333333333333333,
             "#9c179e"
            ],
            [
             0.4444444444444444,
             "#bd3786"
            ],
            [
             0.5555555555555556,
             "#d8576b"
            ],
            [
             0.6666666666666666,
             "#ed7953"
            ],
            [
             0.7777777777777778,
             "#fb9f3a"
            ],
            [
             0.8888888888888888,
             "#fdca26"
            ],
            [
             1.0,
             "#f0f921"
            ]
           ],
           "diverging": [
            [
             0,
             "#8e0152"
            ],
            [
             0.1,
             "#c51b7d"
            ],
            [
             0.2,
             "#de77ae"
            ],
            [
             0.3,
             "#f1b6da"
            ],
            [
             0.4,
             "#fde0ef"
            ],
            [
             0.5,
             "#f7f7f7"
            ],
            [
             0.6,
             "#e6f5d0"
            ],
            [
             0.7,
             "#b8e186"
            ],
            [
             0.8,
             "#7fbc41"
            ],
            [
             0.9,
             "#4d9221"
            ],
            [
             1,
             "#276419"
            ]
           ]
          },
          "xaxis": {
           "gridcolor": "#283442",
           "linecolor": "#506784",
           "ticks": "",
           "title": {
            "standoff": 15
           },
           "zerolinecolor": "#283442",
           "automargin": true,
           "zerolinewidth": 2
          },
          "yaxis": {
           "gridcolor": "#283442",
           "linecolor": "#506784",
           "ticks": "",
           "title": {
            "standoff": 15
           },
           "zerolinecolor": "#283442",
           "automargin": true,
           "zerolinewidth": 2
          },
          "scene": {
           "xaxis": {
            "backgroundcolor": "rgb(17,17,17)",
            "gridcolor": "#506784",
            "linecolor": "#506784",
            "showbackground": true,
            "ticks": "",
            "zerolinecolor": "#C8D4E3",
            "gridwidth": 2
           },
           "yaxis": {
            "backgroundcolor": "rgb(17,17,17)",
            "gridcolor": "#506784",
            "linecolor": "#506784",
            "showbackground": true,
            "ticks": "",
            "zerolinecolor": "#C8D4E3",
            "gridwidth": 2
           },
           "zaxis": {
            "backgroundcolor": "rgb(17,17,17)",
            "gridcolor": "#506784",
            "linecolor": "#506784",
            "showbackground": true,
            "ticks": "",
            "zerolinecolor": "#C8D4E3",
            "gridwidth": 2
           }
          },
          "shapedefaults": {
           "line": {
            "color": "#f2f5fa"
           }
          },
          "annotationdefaults": {
           "arrowcolor": "#f2f5fa",
           "arrowhead": 0,
           "arrowwidth": 1
          },
          "geo": {
           "bgcolor": "rgb(17,17,17)",
           "landcolor": "rgb(17,17,17)",
           "subunitcolor": "#506784",
           "showland": true,
           "showlakes": true,
           "lakecolor": "rgb(17,17,17)"
          },
          "title": {
           "x": 0.05
          },
          "updatemenudefaults": {
           "bgcolor": "#506784",
           "borderwidth": 0
          },
          "sliderdefaults": {
           "bgcolor": "#C8D4E3",
           "borderwidth": 1,
           "bordercolor": "rgb(17,17,17)",
           "tickwidth": 0
          },
          "mapbox": {
           "style": "dark"
          }
         }
        },
        "coloraxis": {
         "colorbar": {
          "title": {
           "text": "Service time payment"
          }
         },
         "colorscale": [
          [
           0.0,
           "#0d0887"
          ],
          [
           0.1111111111111111,
           "#46039f"
          ],
          [
           0.2222222222222222,
           "#7201a8"
          ],
          [
           0.3333333333333333,
           "#9c179e"
          ],
          [
           0.4444444444444444,
           "#bd3786"
          ],
          [
           0.5555555555555556,
           "#d8576b"
          ],
          [
           0.6666666666666666,
           "#ed7953"
          ],
          [
           0.7777777777777778,
           "#fb9f3a"
          ],
          [
           0.8888888888888888,
           "#fdca26"
          ],
          [
           1.0,
           "#f0f921"
          ]
         ]
        },
        "legend": {
         "tracegroupgap": 0
        },
        "margin": {
         "t": 60
        }
       },
       "config": {
        "plotlyServerURL": "https://plot.ly"
       }
      },
      "text/html": "<div>                            <div id=\"c3b16dd2-b17a-438c-b1c1-e71892055ae0\" class=\"plotly-graph-div\" style=\"height:525px; width:100%;\"></div>            <script type=\"text/javascript\">                require([\"plotly\"], function(Plotly) {                    window.PLOTLYENV=window.PLOTLYENV || {};                                    if (document.getElementById(\"c3b16dd2-b17a-438c-b1c1-e71892055ae0\")) {                    Plotly.newPlot(                        \"c3b16dd2-b17a-438c-b1c1-e71892055ae0\",                        [{\"dimensions\":[{\"label\":\"Parking Preference (bin)\",\"values\":[1,0,0,1,0,0,0,0,0,0,0,0,0,0,1,0,0,0,0,0,0,0,1,0,0,0,0,0,0,0,2,0,0,0,0,0,2,0,0,0,0,0,0,0,0,0,2,1,0,0,0,0,0,2,0,0,0,0,0,0,1,0,0,1,0,0,0,0,0,0,2,0,0,0,0,2,0,0,1,0,0,2,0,0,2,0,1,0,0,0,0,0,2,0]},{\"label\":\"Interarrival Times\",\"values\":[2.9867166666666667,1.5053833333333333,0.09558333333333334,0.69645,1.7561666666666667,2.656,5.816083333333333,0.46476666666666666,0.29261666666666664,5.738883333333334,1.1534499999999999,3.10005,0.2659333333333333,2.483166666666667,0.6546833333333333,0.6068333333333332,2.5503833333333334,0.0144,0.7861833333333333,2.9927166666666665,1.4217666666666666,5.51025,1.2866166666666667,1.0329,0.03726666666666667,1.5497333333333332,3.2212166666666664,2.844,0.032016666666666665,2.6182666666666665,1.5315333333333332,1.7627,3.9805333333333333,0.11603333333333334,1.1479166666666667,0.3698166666666667,1.01795,5.8129333333333335,3.302983333333333,0.61095,2.366333333333333,0.7863666666666667,3.1210166666666668,0.4644833333333333,13.9005,4.010816666666667,10.640416666666665,0.8456833333333333,2.6194833333333336,2.740083333333333,1.9944833333333334,0.018899999999999997,0.787,1.8567166666666668,0.2712,1.3915666666666666,7.609816666666666,0.6363333333333333,0.70305,1.1084333333333334,2.6097333333333332,5.425116666666667,4.827116666666667,1.2825833333333334,3.575283333333333,2.97275,2.5002166666666668,0.8972666666666667,1.4582833333333334,2.0723333333333334,0.2868,0.31616666666666665,3.2253666666666665,8.002083333333333,4.95775,1.5020166666666666,2.83845,4.363483333333334,2.006866666666667,0.4082166666666666,1.2252,1.5877333333333332,5.050233333333334,2.7036333333333333,4.07705,1.5039833333333334,7.579183333333333,2.21125,0.8842833333333334,0.84755,0.9715166666666666,0.4200666666666667,2.6634666666666664,3.0042]},{\"label\":\"Shop time\",\"values\":[0.48333333333333334,0.4,0.43333333333333335,0.55,0.5166666666666667,2.1666666666666665,2.6666666666666665,2.2,0.03333333333333333,0.03333333333333333,0.5333333333333333,1.8,0.45,0.43333333333333335,2.1166666666666667,0.5166666666666667,0.5666666666666667,1.6,0.4666666666666667,3.816666666666667,0.18333333333333332,0.21666666666666667,1.4166666666666667,3.1333333333333333,1.2666666666666666,1.4333333333333333,1.1666666666666667,0.8,0.11666666666666667,0.48333333333333334,0.8666666666666667,0.016666666666666666,0.8,0.75,1.6,1.1833333333333333,3.566666666666667,0.4666666666666667,0.8333333333333334,3.2333333333333334,0.5166666666666667,1.0833333333333333,0.6666666666666666,0.03333333333333333,1.9166666666666667,0.31666666666666665,0.3333333333333333,2.3333333333333335,1.8833333333333333,0.7166666666666667,0.2,2.25,3.95,0.16666666666666666,0.21666666666666667,0.5166666666666667,0.2,0.8,1.8833333333333333,0.6833333333333333,1.65,0.2,0.36666666666666664,0.4166666666666667,0.43333333333333335,2.6166666666666667,0.016666666666666666,2.35,2.2,0.016666666666666666,0.5833333333333334,0.8166666666666667,3.15,0.9666666666666667,0.95,0.1,0.8,0.9166666666666666,0.5166666666666667,0.5666666666666667,0.016666666666666666,0.6666666666666666,0.48333333333333334,1.4333333333333333,3.1,2.3666666666666667,0.3333333333333333,1.8166666666666667,7.4,2.8333333333333335,0.08333333333333333,2.4,1.2666666666666666,0.43333333333333335]},{\"label\":\"Service time Fuel\",\"values\":[2.6333333333333333,2.8833333333333333,3.45,4.166666666666667,7.35,4.333333333333333,1.75,2.283333333333333,10.616666666666667,3.1666666666666665,5.15,3.05,4.55,2.8333333333333335,4.966666666666667,4.466666666666667,4.85,2.566666666666667,3.0166666666666666,4.616666666666666,6.883333333333334,3.8666666666666667,4.266666666666667,7.233333333333333,2.5,5.683333333333334,5.433333333333334,7.566666666666666,5.75,2.75,5.583333333333333,3.816666666666667,7.883333333333334,1.7,5.8,2.95,3.55,4.433333333333334,2.9833333333333334,2.4833333333333334,2.466666666666667,6.166666666666667,2.9166666666666665,1.9666666666666666,1.4666666666666666,2.2666666666666666,4.733333333333333,4.233333333333333,1.2,4.316666666666666,2.35,2.95,8.183333333333334,2.533333333333333,1.2,8.05,5.916666666666667,1.1333333333333333,2.35,2.1666666666666665,3.3333333333333335,2.95,1.7333333333333334,3.2666666666666666,5.033333333333333,7.133333333333334,4.933333333333334,5.583333333333333,3.933333333333333,4.533333333333333,2.95,5.333333333333333,1.9833333333333334,4.933333333333334,5.066666666666666,1.2333333333333334,7.966666666666667,3.3,2.3333333333333335,2.433333333333333,4.816666666666666,2.466666666666667,1.95,3.85,3.933333333333333,6.416666666666667,6.133333333333334,3.433333333333333,15.416666666666666,4.85,11.166666666666666,4.616666666666666,3.8833333333333333,5.633333333333334]},{\"label\":\"Service time payment\",\"values\":[0.6333333333333333,0.8333333333333334,0.9166666666666666,0.6,0.9,0.7333333333333333,0.65,0.85,0.8833333333333333,0.7666666666666667,0.7833333333333333,0.7,0.7,0.8,0.7333333333333333,0.85,0.8833333333333333,0.9,0.7333333333333333,0.8666666666666667,0.75,0.6,0.65,0.9,0.6166666666666667,0.7833333333333333,0.7,0.7,0.7833333333333333,0.75,0.7,0.6,0.9,0.6833333333333333,0.7166666666666667,0.75,0.8,0.8,0.8,0.6166666666666667,0.5833333333333334,0.6333333333333333,0.7666666666666667,0.7,0.8333333333333334,0.7166666666666667,0.7666666666666667,0.7166666666666667,0.75,0.6166666666666667,0.9,0.7833333333333333,0.7166666666666667,0.9166666666666666,0.75,0.7166666666666667,0.7666666666666667,0.8833333333333333,0.7666666666666667,0.7,0.6333333333333333,0.8833333333333333,0.8166666666666667,0.65,0.7833333333333333,0.5833333333333334,0.8833333333333333,0.8333333333333334,0.7333333333333333,0.8833333333333333,0.75,0.7166666666666667,0.5833333333333334,0.8833333333333333,0.85,0.7,0.6666666666666666,0.6,0.6833333333333333,0.6166666666666667,0.8666666666666667,0.75,0.6166666666666667,0.7666666666666667,0.7833333333333333,0.6333333333333333,0.7166666666666667,0.8,0.8,0.8166666666666667,0.75,0.5833333333333334,0.7666666666666667,0.7833333333333333]}],\"domain\":{\"x\":[0.0,1.0],\"y\":[0.0,1.0]},\"line\":{\"color\":[0.6333333333333333,0.8333333333333334,0.9166666666666666,0.6,0.9,0.7333333333333333,0.65,0.85,0.8833333333333333,0.7666666666666667,0.7833333333333333,0.7,0.7,0.8,0.7333333333333333,0.85,0.8833333333333333,0.9,0.7333333333333333,0.8666666666666667,0.75,0.6,0.65,0.9,0.6166666666666667,0.7833333333333333,0.7,0.7,0.7833333333333333,0.75,0.7,0.6,0.9,0.6833333333333333,0.7166666666666667,0.75,0.8,0.8,0.8,0.6166666666666667,0.5833333333333334,0.6333333333333333,0.7666666666666667,0.7,0.8333333333333334,0.7166666666666667,0.7666666666666667,0.7166666666666667,0.75,0.6166666666666667,0.9,0.7833333333333333,0.7166666666666667,0.9166666666666666,0.75,0.7166666666666667,0.7666666666666667,0.8833333333333333,0.7666666666666667,0.7,0.6333333333333333,0.8833333333333333,0.8166666666666667,0.65,0.7833333333333333,0.5833333333333334,0.8833333333333333,0.8333333333333334,0.7333333333333333,0.8833333333333333,0.75,0.7166666666666667,0.5833333333333334,0.8833333333333333,0.85,0.7,0.6666666666666666,0.6,0.6833333333333333,0.6166666666666667,0.8666666666666667,0.75,0.6166666666666667,0.7666666666666667,0.7833333333333333,0.6333333333333333,0.7166666666666667,0.8,0.8,0.8166666666666667,0.75,0.5833333333333334,0.7666666666666667,0.7833333333333333],\"coloraxis\":\"coloraxis\"},\"name\":\"\",\"type\":\"parcoords\"}],                        {\"template\":{\"data\":{\"histogram2dcontour\":[{\"type\":\"histogram2dcontour\",\"colorbar\":{\"outlinewidth\":0,\"ticks\":\"\"},\"colorscale\":[[0.0,\"#0d0887\"],[0.1111111111111111,\"#46039f\"],[0.2222222222222222,\"#7201a8\"],[0.3333333333333333,\"#9c179e\"],[0.4444444444444444,\"#bd3786\"],[0.5555555555555556,\"#d8576b\"],[0.6666666666666666,\"#ed7953\"],[0.7777777777777778,\"#fb9f3a\"],[0.8888888888888888,\"#fdca26\"],[1.0,\"#f0f921\"]]}],\"choropleth\":[{\"type\":\"choropleth\",\"colorbar\":{\"outlinewidth\":0,\"ticks\":\"\"}}],\"histogram2d\":[{\"type\":\"histogram2d\",\"colorbar\":{\"outlinewidth\":0,\"ticks\":\"\"},\"colorscale\":[[0.0,\"#0d0887\"],[0.1111111111111111,\"#46039f\"],[0.2222222222222222,\"#7201a8\"],[0.3333333333333333,\"#9c179e\"],[0.4444444444444444,\"#bd3786\"],[0.5555555555555556,\"#d8576b\"],[0.6666666666666666,\"#ed7953\"],[0.7777777777777778,\"#fb9f3a\"],[0.8888888888888888,\"#fdca26\"],[1.0,\"#f0f921\"]]}],\"heatmap\":[{\"type\":\"heatmap\",\"colorbar\":{\"outlinewidth\":0,\"ticks\":\"\"},\"colorscale\":[[0.0,\"#0d0887\"],[0.1111111111111111,\"#46039f\"],[0.2222222222222222,\"#7201a8\"],[0.3333333333333333,\"#9c179e\"],[0.4444444444444444,\"#bd3786\"],[0.5555555555555556,\"#d8576b\"],[0.6666666666666666,\"#ed7953\"],[0.7777777777777778,\"#fb9f3a\"],[0.8888888888888888,\"#fdca26\"],[1.0,\"#f0f921\"]]}],\"heatmapgl\":[{\"type\":\"heatmapgl\",\"colorbar\":{\"outlinewidth\":0,\"ticks\":\"\"},\"colorscale\":[[0.0,\"#0d0887\"],[0.1111111111111111,\"#46039f\"],[0.2222222222222222,\"#7201a8\"],[0.3333333333333333,\"#9c179e\"],[0.4444444444444444,\"#bd3786\"],[0.5555555555555556,\"#d8576b\"],[0.6666666666666666,\"#ed7953\"],[0.7777777777777778,\"#fb9f3a\"],[0.8888888888888888,\"#fdca26\"],[1.0,\"#f0f921\"]]}],\"contourcarpet\":[{\"type\":\"contourcarpet\",\"colorbar\":{\"outlinewidth\":0,\"ticks\":\"\"}}],\"contour\":[{\"type\":\"contour\",\"colorbar\":{\"outlinewidth\":0,\"ticks\":\"\"},\"colorscale\":[[0.0,\"#0d0887\"],[0.1111111111111111,\"#46039f\"],[0.2222222222222222,\"#7201a8\"],[0.3333333333333333,\"#9c179e\"],[0.4444444444444444,\"#bd3786\"],[0.5555555555555556,\"#d8576b\"],[0.6666666666666666,\"#ed7953\"],[0.7777777777777778,\"#fb9f3a\"],[0.8888888888888888,\"#fdca26\"],[1.0,\"#f0f921\"]]}],\"surface\":[{\"type\":\"surface\",\"colorbar\":{\"outlinewidth\":0,\"ticks\":\"\"},\"colorscale\":[[0.0,\"#0d0887\"],[0.1111111111111111,\"#46039f\"],[0.2222222222222222,\"#7201a8\"],[0.3333333333333333,\"#9c179e\"],[0.4444444444444444,\"#bd3786\"],[0.5555555555555556,\"#d8576b\"],[0.6666666666666666,\"#ed7953\"],[0.7777777777777778,\"#fb9f3a\"],[0.8888888888888888,\"#fdca26\"],[1.0,\"#f0f921\"]]}],\"mesh3d\":[{\"type\":\"mesh3d\",\"colorbar\":{\"outlinewidth\":0,\"ticks\":\"\"}}],\"scatter\":[{\"marker\":{\"line\":{\"color\":\"#283442\"}},\"type\":\"scatter\"}],\"parcoords\":[{\"type\":\"parcoords\",\"line\":{\"colorbar\":{\"outlinewidth\":0,\"ticks\":\"\"}}}],\"scatterpolargl\":[{\"type\":\"scatterpolargl\",\"marker\":{\"colorbar\":{\"outlinewidth\":0,\"ticks\":\"\"}}}],\"bar\":[{\"error_x\":{\"color\":\"#f2f5fa\"},\"error_y\":{\"color\":\"#f2f5fa\"},\"marker\":{\"line\":{\"color\":\"rgb(17,17,17)\",\"width\":0.5},\"pattern\":{\"fillmode\":\"overlay\",\"size\":10,\"solidity\":0.2}},\"type\":\"bar\"}],\"scattergeo\":[{\"type\":\"scattergeo\",\"marker\":{\"colorbar\":{\"outlinewidth\":0,\"ticks\":\"\"}}}],\"scatterpolar\":[{\"type\":\"scatterpolar\",\"marker\":{\"colorbar\":{\"outlinewidth\":0,\"ticks\":\"\"}}}],\"histogram\":[{\"marker\":{\"pattern\":{\"fillmode\":\"overlay\",\"size\":10,\"solidity\":0.2}},\"type\":\"histogram\"}],\"scattergl\":[{\"marker\":{\"line\":{\"color\":\"#283442\"}},\"type\":\"scattergl\"}],\"scatter3d\":[{\"type\":\"scatter3d\",\"line\":{\"colorbar\":{\"outlinewidth\":0,\"ticks\":\"\"}},\"marker\":{\"colorbar\":{\"outlinewidth\":0,\"ticks\":\"\"}}}],\"scattermapbox\":[{\"type\":\"scattermapbox\",\"marker\":{\"colorbar\":{\"outlinewidth\":0,\"ticks\":\"\"}}}],\"scatterternary\":[{\"type\":\"scatterternary\",\"marker\":{\"colorbar\":{\"outlinewidth\":0,\"ticks\":\"\"}}}],\"scattercarpet\":[{\"type\":\"scattercarpet\",\"marker\":{\"colorbar\":{\"outlinewidth\":0,\"ticks\":\"\"}}}],\"carpet\":[{\"aaxis\":{\"endlinecolor\":\"#A2B1C6\",\"gridcolor\":\"#506784\",\"linecolor\":\"#506784\",\"minorgridcolor\":\"#506784\",\"startlinecolor\":\"#A2B1C6\"},\"baxis\":{\"endlinecolor\":\"#A2B1C6\",\"gridcolor\":\"#506784\",\"linecolor\":\"#506784\",\"minorgridcolor\":\"#506784\",\"startlinecolor\":\"#A2B1C6\"},\"type\":\"carpet\"}],\"table\":[{\"cells\":{\"fill\":{\"color\":\"#506784\"},\"line\":{\"color\":\"rgb(17,17,17)\"}},\"header\":{\"fill\":{\"color\":\"#2a3f5f\"},\"line\":{\"color\":\"rgb(17,17,17)\"}},\"type\":\"table\"}],\"barpolar\":[{\"marker\":{\"line\":{\"color\":\"rgb(17,17,17)\",\"width\":0.5},\"pattern\":{\"fillmode\":\"overlay\",\"size\":10,\"solidity\":0.2}},\"type\":\"barpolar\"}],\"pie\":[{\"automargin\":true,\"type\":\"pie\"}]},\"layout\":{\"autotypenumbers\":\"strict\",\"colorway\":[\"#636efa\",\"#EF553B\",\"#00cc96\",\"#ab63fa\",\"#FFA15A\",\"#19d3f3\",\"#FF6692\",\"#B6E880\",\"#FF97FF\",\"#FECB52\"],\"font\":{\"color\":\"#f2f5fa\"},\"hovermode\":\"closest\",\"hoverlabel\":{\"align\":\"left\"},\"paper_bgcolor\":\"rgb(17,17,17)\",\"plot_bgcolor\":\"rgb(17,17,17)\",\"polar\":{\"bgcolor\":\"rgb(17,17,17)\",\"angularaxis\":{\"gridcolor\":\"#506784\",\"linecolor\":\"#506784\",\"ticks\":\"\"},\"radialaxis\":{\"gridcolor\":\"#506784\",\"linecolor\":\"#506784\",\"ticks\":\"\"}},\"ternary\":{\"bgcolor\":\"rgb(17,17,17)\",\"aaxis\":{\"gridcolor\":\"#506784\",\"linecolor\":\"#506784\",\"ticks\":\"\"},\"baxis\":{\"gridcolor\":\"#506784\",\"linecolor\":\"#506784\",\"ticks\":\"\"},\"caxis\":{\"gridcolor\":\"#506784\",\"linecolor\":\"#506784\",\"ticks\":\"\"}},\"coloraxis\":{\"colorbar\":{\"outlinewidth\":0,\"ticks\":\"\"}},\"colorscale\":{\"sequential\":[[0.0,\"#0d0887\"],[0.1111111111111111,\"#46039f\"],[0.2222222222222222,\"#7201a8\"],[0.3333333333333333,\"#9c179e\"],[0.4444444444444444,\"#bd3786\"],[0.5555555555555556,\"#d8576b\"],[0.6666666666666666,\"#ed7953\"],[0.7777777777777778,\"#fb9f3a\"],[0.8888888888888888,\"#fdca26\"],[1.0,\"#f0f921\"]],\"sequentialminus\":[[0.0,\"#0d0887\"],[0.1111111111111111,\"#46039f\"],[0.2222222222222222,\"#7201a8\"],[0.3333333333333333,\"#9c179e\"],[0.4444444444444444,\"#bd3786\"],[0.5555555555555556,\"#d8576b\"],[0.6666666666666666,\"#ed7953\"],[0.7777777777777778,\"#fb9f3a\"],[0.8888888888888888,\"#fdca26\"],[1.0,\"#f0f921\"]],\"diverging\":[[0,\"#8e0152\"],[0.1,\"#c51b7d\"],[0.2,\"#de77ae\"],[0.3,\"#f1b6da\"],[0.4,\"#fde0ef\"],[0.5,\"#f7f7f7\"],[0.6,\"#e6f5d0\"],[0.7,\"#b8e186\"],[0.8,\"#7fbc41\"],[0.9,\"#4d9221\"],[1,\"#276419\"]]},\"xaxis\":{\"gridcolor\":\"#283442\",\"linecolor\":\"#506784\",\"ticks\":\"\",\"title\":{\"standoff\":15},\"zerolinecolor\":\"#283442\",\"automargin\":true,\"zerolinewidth\":2},\"yaxis\":{\"gridcolor\":\"#283442\",\"linecolor\":\"#506784\",\"ticks\":\"\",\"title\":{\"standoff\":15},\"zerolinecolor\":\"#283442\",\"automargin\":true,\"zerolinewidth\":2},\"scene\":{\"xaxis\":{\"backgroundcolor\":\"rgb(17,17,17)\",\"gridcolor\":\"#506784\",\"linecolor\":\"#506784\",\"showbackground\":true,\"ticks\":\"\",\"zerolinecolor\":\"#C8D4E3\",\"gridwidth\":2},\"yaxis\":{\"backgroundcolor\":\"rgb(17,17,17)\",\"gridcolor\":\"#506784\",\"linecolor\":\"#506784\",\"showbackground\":true,\"ticks\":\"\",\"zerolinecolor\":\"#C8D4E3\",\"gridwidth\":2},\"zaxis\":{\"backgroundcolor\":\"rgb(17,17,17)\",\"gridcolor\":\"#506784\",\"linecolor\":\"#506784\",\"showbackground\":true,\"ticks\":\"\",\"zerolinecolor\":\"#C8D4E3\",\"gridwidth\":2}},\"shapedefaults\":{\"line\":{\"color\":\"#f2f5fa\"}},\"annotationdefaults\":{\"arrowcolor\":\"#f2f5fa\",\"arrowhead\":0,\"arrowwidth\":1},\"geo\":{\"bgcolor\":\"rgb(17,17,17)\",\"landcolor\":\"rgb(17,17,17)\",\"subunitcolor\":\"#506784\",\"showland\":true,\"showlakes\":true,\"lakecolor\":\"rgb(17,17,17)\"},\"title\":{\"x\":0.05},\"updatemenudefaults\":{\"bgcolor\":\"#506784\",\"borderwidth\":0},\"sliderdefaults\":{\"bgcolor\":\"#C8D4E3\",\"borderwidth\":1,\"bordercolor\":\"rgb(17,17,17)\",\"tickwidth\":0},\"mapbox\":{\"style\":\"dark\"}}},\"coloraxis\":{\"colorbar\":{\"title\":{\"text\":\"Service time payment\"}},\"colorscale\":[[0.0,\"#0d0887\"],[0.1111111111111111,\"#46039f\"],[0.2222222222222222,\"#7201a8\"],[0.3333333333333333,\"#9c179e\"],[0.4444444444444444,\"#bd3786\"],[0.5555555555555556,\"#d8576b\"],[0.6666666666666666,\"#ed7953\"],[0.7777777777777778,\"#fb9f3a\"],[0.8888888888888888,\"#fdca26\"],[1.0,\"#f0f921\"]]},\"legend\":{\"tracegroupgap\":0},\"margin\":{\"t\":60}},                        {\"responsive\": true}                    ).then(function(){\n                            \nvar gd = document.getElementById('c3b16dd2-b17a-438c-b1c1-e71892055ae0');\nvar x = new MutationObserver(function (mutations, observer) {{\n        var display = window.getComputedStyle(gd).display;\n        if (!display || display === 'none') {{\n            console.log([gd, 'removed!']);\n            Plotly.purge(gd);\n            observer.disconnect();\n        }}\n}});\n\n// Listen for the removal of the full notebook cells\nvar notebookContainer = gd.closest('#notebook-container');\nif (notebookContainer) {{\n    x.observe(notebookContainer, {childList: true});\n}}\n\n// Listen for the clearing of the current output cell\nvar outputEl = gd.closest('.output');\nif (outputEl) {{\n    x.observe(outputEl, {childList: true});\n}}\n\n                        })                };                });            </script>        </div>"
     },
     "metadata": {},
     "output_type": "display_data"
    }
   ],
   "source": [
    "import plotly.express as px\n",
    "\n",
    "def left_right_encoder(x):\n",
    "    if x == \"Left\":\n",
    "        return 1\n",
    "    elif x == \"Right\":\n",
    "        return 2\n",
    "    else:\n",
    "        return 0\n",
    "\n",
    "\n",
    "data[\"Parking Preference (bin)\"] = data[\"Parking Preference\"].apply(lambda x: left_right_encoder(x))\n",
    "px.parallel_coordinates(\n",
    "    data_frame=data,\n",
    "    dimensions=[\n",
    "        \"Parking Preference (bin)\",\n",
    "        \"Interarrival Times\",\n",
    "        \"Shop time\",\n",
    "        \"Service time Fuel\",\n",
    "        \"Service time payment\",\n",
    "        # \"Parking Preference\"\n",
    "        \n",
    "    ],\n",
    "    color=\"Service time payment\"\n",
    "    # color=\"Parking Preference (bin)\"\n",
    ")"
   ]
  },
  {
   "cell_type": "code",
   "execution_count": 12,
   "metadata": {
    "collapsed": false,
    "ExecuteTime": {
     "end_time": "2024-03-25T09:09:52.687573472Z",
     "start_time": "2024-03-25T09:09:52.590000456Z"
    }
   },
   "outputs": [],
   "source": [
    "# data[\"Arrival Time\"].dt.hour"
   ]
  },
  {
   "cell_type": "code",
   "execution_count": 13,
   "metadata": {
    "collapsed": false,
    "ExecuteTime": {
     "end_time": "2024-03-25T09:11:06.081565936Z",
     "start_time": "2024-03-25T09:11:05.928092240Z"
    }
   },
   "outputs": [
    {
     "data": {
      "application/vnd.plotly.v1+json": {
       "data": [
        {
         "dimensions": [
          {
           "label": "Arrival Time (H)",
           "values": [
            6,
            6,
            6,
            6,
            6,
            6,
            7,
            7,
            7,
            7,
            7,
            7,
            8,
            8,
            8,
            8,
            8,
            8,
            9,
            9,
            9,
            9,
            9,
            9,
            9,
            9,
            9,
            10,
            10,
            11,
            11,
            11,
            11,
            11,
            11,
            11,
            11,
            12,
            12,
            12,
            12,
            12,
            12,
            12,
            13,
            13,
            13,
            14,
            14,
            14,
            14,
            14,
            14,
            15,
            15,
            15,
            16,
            16,
            16,
            16,
            16,
            16,
            16,
            17,
            17,
            17,
            17,
            17,
            17,
            18,
            18,
            18,
            18,
            18,
            18,
            18,
            18,
            18,
            19,
            19,
            19,
            19,
            20,
            20,
            20,
            20,
            21,
            21,
            21,
            21,
            21,
            21,
            21,
            21
           ]
          },
          {
           "label": "Shop time",
           "values": [
            0.48333333333333334,
            0.4,
            0.43333333333333335,
            0.55,
            0.5166666666666667,
            2.1666666666666665,
            2.6666666666666665,
            2.2,
            0.03333333333333333,
            0.03333333333333333,
            0.5333333333333333,
            1.8,
            0.45,
            0.43333333333333335,
            2.1166666666666667,
            0.5166666666666667,
            0.5666666666666667,
            1.6,
            0.4666666666666667,
            3.816666666666667,
            0.18333333333333332,
            0.21666666666666667,
            1.4166666666666667,
            3.1333333333333333,
            1.2666666666666666,
            1.4333333333333333,
            1.1666666666666667,
            0.8,
            0.11666666666666667,
            0.48333333333333334,
            0.8666666666666667,
            0.016666666666666666,
            0.8,
            0.75,
            1.6,
            1.1833333333333333,
            3.566666666666667,
            0.4666666666666667,
            0.8333333333333334,
            3.2333333333333334,
            0.5166666666666667,
            1.0833333333333333,
            0.6666666666666666,
            0.03333333333333333,
            1.9166666666666667,
            0.31666666666666665,
            0.3333333333333333,
            2.3333333333333335,
            1.8833333333333333,
            0.7166666666666667,
            0.2,
            2.25,
            3.95,
            0.16666666666666666,
            0.21666666666666667,
            0.5166666666666667,
            0.2,
            0.8,
            1.8833333333333333,
            0.6833333333333333,
            1.65,
            0.2,
            0.36666666666666664,
            0.4166666666666667,
            0.43333333333333335,
            2.6166666666666667,
            0.016666666666666666,
            2.35,
            2.2,
            0.016666666666666666,
            0.5833333333333334,
            0.8166666666666667,
            3.15,
            0.9666666666666667,
            0.95,
            0.1,
            0.8,
            0.9166666666666666,
            0.5166666666666667,
            0.5666666666666667,
            0.016666666666666666,
            0.6666666666666666,
            0.48333333333333334,
            1.4333333333333333,
            3.1,
            2.3666666666666667,
            0.3333333333333333,
            1.8166666666666667,
            7.4,
            2.8333333333333335,
            0.08333333333333333,
            2.4,
            1.2666666666666666,
            0.43333333333333335
           ]
          },
          {
           "label": "Service time Fuel",
           "values": [
            2.6333333333333333,
            2.8833333333333333,
            3.45,
            4.166666666666667,
            7.35,
            4.333333333333333,
            1.75,
            2.283333333333333,
            10.616666666666667,
            3.1666666666666665,
            5.15,
            3.05,
            4.55,
            2.8333333333333335,
            4.966666666666667,
            4.466666666666667,
            4.85,
            2.566666666666667,
            3.0166666666666666,
            4.616666666666666,
            6.883333333333334,
            3.8666666666666667,
            4.266666666666667,
            7.233333333333333,
            2.5,
            5.683333333333334,
            5.433333333333334,
            7.566666666666666,
            5.75,
            2.75,
            5.583333333333333,
            3.816666666666667,
            7.883333333333334,
            1.7,
            5.8,
            2.95,
            3.55,
            4.433333333333334,
            2.9833333333333334,
            2.4833333333333334,
            2.466666666666667,
            6.166666666666667,
            2.9166666666666665,
            1.9666666666666666,
            1.4666666666666666,
            2.2666666666666666,
            4.733333333333333,
            4.233333333333333,
            1.2,
            4.316666666666666,
            2.35,
            2.95,
            8.183333333333334,
            2.533333333333333,
            1.2,
            8.05,
            5.916666666666667,
            1.1333333333333333,
            2.35,
            2.1666666666666665,
            3.3333333333333335,
            2.95,
            1.7333333333333334,
            3.2666666666666666,
            5.033333333333333,
            7.133333333333334,
            4.933333333333334,
            5.583333333333333,
            3.933333333333333,
            4.533333333333333,
            2.95,
            5.333333333333333,
            1.9833333333333334,
            4.933333333333334,
            5.066666666666666,
            1.2333333333333334,
            7.966666666666667,
            3.3,
            2.3333333333333335,
            2.433333333333333,
            4.816666666666666,
            2.466666666666667,
            1.95,
            3.85,
            3.933333333333333,
            6.416666666666667,
            6.133333333333334,
            3.433333333333333,
            15.416666666666666,
            4.85,
            11.166666666666666,
            4.616666666666666,
            3.8833333333333333,
            5.633333333333334
           ]
          },
          {
           "label": "Service time payment",
           "values": [
            0.6333333333333333,
            0.8333333333333334,
            0.9166666666666666,
            0.6,
            0.9,
            0.7333333333333333,
            0.65,
            0.85,
            0.8833333333333333,
            0.7666666666666667,
            0.7833333333333333,
            0.7,
            0.7,
            0.8,
            0.7333333333333333,
            0.85,
            0.8833333333333333,
            0.9,
            0.7333333333333333,
            0.8666666666666667,
            0.75,
            0.6,
            0.65,
            0.9,
            0.6166666666666667,
            0.7833333333333333,
            0.7,
            0.7,
            0.7833333333333333,
            0.75,
            0.7,
            0.6,
            0.9,
            0.6833333333333333,
            0.7166666666666667,
            0.75,
            0.8,
            0.8,
            0.8,
            0.6166666666666667,
            0.5833333333333334,
            0.6333333333333333,
            0.7666666666666667,
            0.7,
            0.8333333333333334,
            0.7166666666666667,
            0.7666666666666667,
            0.7166666666666667,
            0.75,
            0.6166666666666667,
            0.9,
            0.7833333333333333,
            0.7166666666666667,
            0.9166666666666666,
            0.75,
            0.7166666666666667,
            0.7666666666666667,
            0.8833333333333333,
            0.7666666666666667,
            0.7,
            0.6333333333333333,
            0.8833333333333333,
            0.8166666666666667,
            0.65,
            0.7833333333333333,
            0.5833333333333334,
            0.8833333333333333,
            0.8333333333333334,
            0.7333333333333333,
            0.8833333333333333,
            0.75,
            0.7166666666666667,
            0.5833333333333334,
            0.8833333333333333,
            0.85,
            0.7,
            0.6666666666666666,
            0.6,
            0.6833333333333333,
            0.6166666666666667,
            0.8666666666666667,
            0.75,
            0.6166666666666667,
            0.7666666666666667,
            0.7833333333333333,
            0.6333333333333333,
            0.7166666666666667,
            0.8,
            0.8,
            0.8166666666666667,
            0.75,
            0.5833333333333334,
            0.7666666666666667,
            0.7833333333333333
           ]
          },
          {
           "label": "Parking Preference",
           "values": [
            "Left",
            null,
            null,
            "Left",
            null,
            null,
            null,
            null,
            null,
            null,
            null,
            null,
            null,
            null,
            "Left",
            null,
            null,
            null,
            null,
            null,
            null,
            null,
            "Left",
            null,
            null,
            null,
            null,
            null,
            null,
            null,
            "Right",
            null,
            null,
            null,
            null,
            null,
            "Right",
            null,
            null,
            null,
            null,
            null,
            null,
            null,
            null,
            null,
            "Right",
            "Left",
            null,
            null,
            null,
            null,
            null,
            "Right",
            null,
            null,
            null,
            null,
            null,
            null,
            "Left",
            null,
            null,
            "Left",
            null,
            null,
            null,
            null,
            null,
            null,
            "Right",
            null,
            null,
            null,
            null,
            "Right",
            null,
            null,
            "Left",
            null,
            null,
            "Right",
            null,
            null,
            "Right",
            null,
            "Left",
            null,
            null,
            null,
            null,
            null,
            "Right",
            null
           ]
          },
          {
           "label": "Interarrival Times",
           "values": [
            2.9867166666666667,
            1.5053833333333333,
            0.09558333333333334,
            0.69645,
            1.7561666666666667,
            2.656,
            5.816083333333333,
            0.46476666666666666,
            0.29261666666666664,
            5.738883333333334,
            1.1534499999999999,
            3.10005,
            0.2659333333333333,
            2.483166666666667,
            0.6546833333333333,
            0.6068333333333332,
            2.5503833333333334,
            0.0144,
            0.7861833333333333,
            2.9927166666666665,
            1.4217666666666666,
            5.51025,
            1.2866166666666667,
            1.0329,
            0.03726666666666667,
            1.5497333333333332,
            3.2212166666666664,
            2.844,
            0.032016666666666665,
            2.6182666666666665,
            1.5315333333333332,
            1.7627,
            3.9805333333333333,
            0.11603333333333334,
            1.1479166666666667,
            0.3698166666666667,
            1.01795,
            5.8129333333333335,
            3.302983333333333,
            0.61095,
            2.366333333333333,
            0.7863666666666667,
            3.1210166666666668,
            0.4644833333333333,
            13.9005,
            4.010816666666667,
            10.640416666666665,
            0.8456833333333333,
            2.6194833333333336,
            2.740083333333333,
            1.9944833333333334,
            0.018899999999999997,
            0.787,
            1.8567166666666668,
            0.2712,
            1.3915666666666666,
            7.609816666666666,
            0.6363333333333333,
            0.70305,
            1.1084333333333334,
            2.6097333333333332,
            5.425116666666667,
            4.827116666666667,
            1.2825833333333334,
            3.575283333333333,
            2.97275,
            2.5002166666666668,
            0.8972666666666667,
            1.4582833333333334,
            2.0723333333333334,
            0.2868,
            0.31616666666666665,
            3.2253666666666665,
            8.002083333333333,
            4.95775,
            1.5020166666666666,
            2.83845,
            4.363483333333334,
            2.006866666666667,
            0.4082166666666666,
            1.2252,
            1.5877333333333332,
            5.050233333333334,
            2.7036333333333333,
            4.07705,
            1.5039833333333334,
            7.579183333333333,
            2.21125,
            0.8842833333333334,
            0.84755,
            0.9715166666666666,
            0.4200666666666667,
            2.6634666666666664,
            3.0042
           ]
          }
         ],
         "domain": {
          "x": [
           0.0,
           1.0
          ],
          "y": [
           0.0,
           1.0
          ]
         },
         "line": {
          "color": [
           6,
           6,
           6,
           6,
           6,
           6,
           7,
           7,
           7,
           7,
           7,
           7,
           8,
           8,
           8,
           8,
           8,
           8,
           9,
           9,
           9,
           9,
           9,
           9,
           9,
           9,
           9,
           10,
           10,
           11,
           11,
           11,
           11,
           11,
           11,
           11,
           11,
           12,
           12,
           12,
           12,
           12,
           12,
           12,
           13,
           13,
           13,
           14,
           14,
           14,
           14,
           14,
           14,
           15,
           15,
           15,
           16,
           16,
           16,
           16,
           16,
           16,
           16,
           17,
           17,
           17,
           17,
           17,
           17,
           18,
           18,
           18,
           18,
           18,
           18,
           18,
           18,
           18,
           19,
           19,
           19,
           19,
           20,
           20,
           20,
           20,
           21,
           21,
           21,
           21,
           21,
           21,
           21,
           21
          ],
          "coloraxis": "coloraxis"
         },
         "name": "",
         "type": "parcats"
        }
       ],
       "layout": {
        "template": {
         "data": {
          "histogram2dcontour": [
           {
            "type": "histogram2dcontour",
            "colorbar": {
             "outlinewidth": 0,
             "ticks": ""
            },
            "colorscale": [
             [
              0.0,
              "#0d0887"
             ],
             [
              0.1111111111111111,
              "#46039f"
             ],
             [
              0.2222222222222222,
              "#7201a8"
             ],
             [
              0.3333333333333333,
              "#9c179e"
             ],
             [
              0.4444444444444444,
              "#bd3786"
             ],
             [
              0.5555555555555556,
              "#d8576b"
             ],
             [
              0.6666666666666666,
              "#ed7953"
             ],
             [
              0.7777777777777778,
              "#fb9f3a"
             ],
             [
              0.8888888888888888,
              "#fdca26"
             ],
             [
              1.0,
              "#f0f921"
             ]
            ]
           }
          ],
          "choropleth": [
           {
            "type": "choropleth",
            "colorbar": {
             "outlinewidth": 0,
             "ticks": ""
            }
           }
          ],
          "histogram2d": [
           {
            "type": "histogram2d",
            "colorbar": {
             "outlinewidth": 0,
             "ticks": ""
            },
            "colorscale": [
             [
              0.0,
              "#0d0887"
             ],
             [
              0.1111111111111111,
              "#46039f"
             ],
             [
              0.2222222222222222,
              "#7201a8"
             ],
             [
              0.3333333333333333,
              "#9c179e"
             ],
             [
              0.4444444444444444,
              "#bd3786"
             ],
             [
              0.5555555555555556,
              "#d8576b"
             ],
             [
              0.6666666666666666,
              "#ed7953"
             ],
             [
              0.7777777777777778,
              "#fb9f3a"
             ],
             [
              0.8888888888888888,
              "#fdca26"
             ],
             [
              1.0,
              "#f0f921"
             ]
            ]
           }
          ],
          "heatmap": [
           {
            "type": "heatmap",
            "colorbar": {
             "outlinewidth": 0,
             "ticks": ""
            },
            "colorscale": [
             [
              0.0,
              "#0d0887"
             ],
             [
              0.1111111111111111,
              "#46039f"
             ],
             [
              0.2222222222222222,
              "#7201a8"
             ],
             [
              0.3333333333333333,
              "#9c179e"
             ],
             [
              0.4444444444444444,
              "#bd3786"
             ],
             [
              0.5555555555555556,
              "#d8576b"
             ],
             [
              0.6666666666666666,
              "#ed7953"
             ],
             [
              0.7777777777777778,
              "#fb9f3a"
             ],
             [
              0.8888888888888888,
              "#fdca26"
             ],
             [
              1.0,
              "#f0f921"
             ]
            ]
           }
          ],
          "heatmapgl": [
           {
            "type": "heatmapgl",
            "colorbar": {
             "outlinewidth": 0,
             "ticks": ""
            },
            "colorscale": [
             [
              0.0,
              "#0d0887"
             ],
             [
              0.1111111111111111,
              "#46039f"
             ],
             [
              0.2222222222222222,
              "#7201a8"
             ],
             [
              0.3333333333333333,
              "#9c179e"
             ],
             [
              0.4444444444444444,
              "#bd3786"
             ],
             [
              0.5555555555555556,
              "#d8576b"
             ],
             [
              0.6666666666666666,
              "#ed7953"
             ],
             [
              0.7777777777777778,
              "#fb9f3a"
             ],
             [
              0.8888888888888888,
              "#fdca26"
             ],
             [
              1.0,
              "#f0f921"
             ]
            ]
           }
          ],
          "contourcarpet": [
           {
            "type": "contourcarpet",
            "colorbar": {
             "outlinewidth": 0,
             "ticks": ""
            }
           }
          ],
          "contour": [
           {
            "type": "contour",
            "colorbar": {
             "outlinewidth": 0,
             "ticks": ""
            },
            "colorscale": [
             [
              0.0,
              "#0d0887"
             ],
             [
              0.1111111111111111,
              "#46039f"
             ],
             [
              0.2222222222222222,
              "#7201a8"
             ],
             [
              0.3333333333333333,
              "#9c179e"
             ],
             [
              0.4444444444444444,
              "#bd3786"
             ],
             [
              0.5555555555555556,
              "#d8576b"
             ],
             [
              0.6666666666666666,
              "#ed7953"
             ],
             [
              0.7777777777777778,
              "#fb9f3a"
             ],
             [
              0.8888888888888888,
              "#fdca26"
             ],
             [
              1.0,
              "#f0f921"
             ]
            ]
           }
          ],
          "surface": [
           {
            "type": "surface",
            "colorbar": {
             "outlinewidth": 0,
             "ticks": ""
            },
            "colorscale": [
             [
              0.0,
              "#0d0887"
             ],
             [
              0.1111111111111111,
              "#46039f"
             ],
             [
              0.2222222222222222,
              "#7201a8"
             ],
             [
              0.3333333333333333,
              "#9c179e"
             ],
             [
              0.4444444444444444,
              "#bd3786"
             ],
             [
              0.5555555555555556,
              "#d8576b"
             ],
             [
              0.6666666666666666,
              "#ed7953"
             ],
             [
              0.7777777777777778,
              "#fb9f3a"
             ],
             [
              0.8888888888888888,
              "#fdca26"
             ],
             [
              1.0,
              "#f0f921"
             ]
            ]
           }
          ],
          "mesh3d": [
           {
            "type": "mesh3d",
            "colorbar": {
             "outlinewidth": 0,
             "ticks": ""
            }
           }
          ],
          "scatter": [
           {
            "marker": {
             "line": {
              "color": "#283442"
             }
            },
            "type": "scatter"
           }
          ],
          "parcoords": [
           {
            "type": "parcoords",
            "line": {
             "colorbar": {
              "outlinewidth": 0,
              "ticks": ""
             }
            }
           }
          ],
          "scatterpolargl": [
           {
            "type": "scatterpolargl",
            "marker": {
             "colorbar": {
              "outlinewidth": 0,
              "ticks": ""
             }
            }
           }
          ],
          "bar": [
           {
            "error_x": {
             "color": "#f2f5fa"
            },
            "error_y": {
             "color": "#f2f5fa"
            },
            "marker": {
             "line": {
              "color": "rgb(17,17,17)",
              "width": 0.5
             },
             "pattern": {
              "fillmode": "overlay",
              "size": 10,
              "solidity": 0.2
             }
            },
            "type": "bar"
           }
          ],
          "scattergeo": [
           {
            "type": "scattergeo",
            "marker": {
             "colorbar": {
              "outlinewidth": 0,
              "ticks": ""
             }
            }
           }
          ],
          "scatterpolar": [
           {
            "type": "scatterpolar",
            "marker": {
             "colorbar": {
              "outlinewidth": 0,
              "ticks": ""
             }
            }
           }
          ],
          "histogram": [
           {
            "marker": {
             "pattern": {
              "fillmode": "overlay",
              "size": 10,
              "solidity": 0.2
             }
            },
            "type": "histogram"
           }
          ],
          "scattergl": [
           {
            "marker": {
             "line": {
              "color": "#283442"
             }
            },
            "type": "scattergl"
           }
          ],
          "scatter3d": [
           {
            "type": "scatter3d",
            "line": {
             "colorbar": {
              "outlinewidth": 0,
              "ticks": ""
             }
            },
            "marker": {
             "colorbar": {
              "outlinewidth": 0,
              "ticks": ""
             }
            }
           }
          ],
          "scattermapbox": [
           {
            "type": "scattermapbox",
            "marker": {
             "colorbar": {
              "outlinewidth": 0,
              "ticks": ""
             }
            }
           }
          ],
          "scatterternary": [
           {
            "type": "scatterternary",
            "marker": {
             "colorbar": {
              "outlinewidth": 0,
              "ticks": ""
             }
            }
           }
          ],
          "scattercarpet": [
           {
            "type": "scattercarpet",
            "marker": {
             "colorbar": {
              "outlinewidth": 0,
              "ticks": ""
             }
            }
           }
          ],
          "carpet": [
           {
            "aaxis": {
             "endlinecolor": "#A2B1C6",
             "gridcolor": "#506784",
             "linecolor": "#506784",
             "minorgridcolor": "#506784",
             "startlinecolor": "#A2B1C6"
            },
            "baxis": {
             "endlinecolor": "#A2B1C6",
             "gridcolor": "#506784",
             "linecolor": "#506784",
             "minorgridcolor": "#506784",
             "startlinecolor": "#A2B1C6"
            },
            "type": "carpet"
           }
          ],
          "table": [
           {
            "cells": {
             "fill": {
              "color": "#506784"
             },
             "line": {
              "color": "rgb(17,17,17)"
             }
            },
            "header": {
             "fill": {
              "color": "#2a3f5f"
             },
             "line": {
              "color": "rgb(17,17,17)"
             }
            },
            "type": "table"
           }
          ],
          "barpolar": [
           {
            "marker": {
             "line": {
              "color": "rgb(17,17,17)",
              "width": 0.5
             },
             "pattern": {
              "fillmode": "overlay",
              "size": 10,
              "solidity": 0.2
             }
            },
            "type": "barpolar"
           }
          ],
          "pie": [
           {
            "automargin": true,
            "type": "pie"
           }
          ]
         },
         "layout": {
          "autotypenumbers": "strict",
          "colorway": [
           "#636efa",
           "#EF553B",
           "#00cc96",
           "#ab63fa",
           "#FFA15A",
           "#19d3f3",
           "#FF6692",
           "#B6E880",
           "#FF97FF",
           "#FECB52"
          ],
          "font": {
           "color": "#f2f5fa"
          },
          "hovermode": "closest",
          "hoverlabel": {
           "align": "left"
          },
          "paper_bgcolor": "rgb(17,17,17)",
          "plot_bgcolor": "rgb(17,17,17)",
          "polar": {
           "bgcolor": "rgb(17,17,17)",
           "angularaxis": {
            "gridcolor": "#506784",
            "linecolor": "#506784",
            "ticks": ""
           },
           "radialaxis": {
            "gridcolor": "#506784",
            "linecolor": "#506784",
            "ticks": ""
           }
          },
          "ternary": {
           "bgcolor": "rgb(17,17,17)",
           "aaxis": {
            "gridcolor": "#506784",
            "linecolor": "#506784",
            "ticks": ""
           },
           "baxis": {
            "gridcolor": "#506784",
            "linecolor": "#506784",
            "ticks": ""
           },
           "caxis": {
            "gridcolor": "#506784",
            "linecolor": "#506784",
            "ticks": ""
           }
          },
          "coloraxis": {
           "colorbar": {
            "outlinewidth": 0,
            "ticks": ""
           }
          },
          "colorscale": {
           "sequential": [
            [
             0.0,
             "#0d0887"
            ],
            [
             0.1111111111111111,
             "#46039f"
            ],
            [
             0.2222222222222222,
             "#7201a8"
            ],
            [
             0.3333333333333333,
             "#9c179e"
            ],
            [
             0.4444444444444444,
             "#bd3786"
            ],
            [
             0.5555555555555556,
             "#d8576b"
            ],
            [
             0.6666666666666666,
             "#ed7953"
            ],
            [
             0.7777777777777778,
             "#fb9f3a"
            ],
            [
             0.8888888888888888,
             "#fdca26"
            ],
            [
             1.0,
             "#f0f921"
            ]
           ],
           "sequentialminus": [
            [
             0.0,
             "#0d0887"
            ],
            [
             0.1111111111111111,
             "#46039f"
            ],
            [
             0.2222222222222222,
             "#7201a8"
            ],
            [
             0.3333333333333333,
             "#9c179e"
            ],
            [
             0.4444444444444444,
             "#bd3786"
            ],
            [
             0.5555555555555556,
             "#d8576b"
            ],
            [
             0.6666666666666666,
             "#ed7953"
            ],
            [
             0.7777777777777778,
             "#fb9f3a"
            ],
            [
             0.8888888888888888,
             "#fdca26"
            ],
            [
             1.0,
             "#f0f921"
            ]
           ],
           "diverging": [
            [
             0,
             "#8e0152"
            ],
            [
             0.1,
             "#c51b7d"
            ],
            [
             0.2,
             "#de77ae"
            ],
            [
             0.3,
             "#f1b6da"
            ],
            [
             0.4,
             "#fde0ef"
            ],
            [
             0.5,
             "#f7f7f7"
            ],
            [
             0.6,
             "#e6f5d0"
            ],
            [
             0.7,
             "#b8e186"
            ],
            [
             0.8,
             "#7fbc41"
            ],
            [
             0.9,
             "#4d9221"
            ],
            [
             1,
             "#276419"
            ]
           ]
          },
          "xaxis": {
           "gridcolor": "#283442",
           "linecolor": "#506784",
           "ticks": "",
           "title": {
            "standoff": 15
           },
           "zerolinecolor": "#283442",
           "automargin": true,
           "zerolinewidth": 2
          },
          "yaxis": {
           "gridcolor": "#283442",
           "linecolor": "#506784",
           "ticks": "",
           "title": {
            "standoff": 15
           },
           "zerolinecolor": "#283442",
           "automargin": true,
           "zerolinewidth": 2
          },
          "scene": {
           "xaxis": {
            "backgroundcolor": "rgb(17,17,17)",
            "gridcolor": "#506784",
            "linecolor": "#506784",
            "showbackground": true,
            "ticks": "",
            "zerolinecolor": "#C8D4E3",
            "gridwidth": 2
           },
           "yaxis": {
            "backgroundcolor": "rgb(17,17,17)",
            "gridcolor": "#506784",
            "linecolor": "#506784",
            "showbackground": true,
            "ticks": "",
            "zerolinecolor": "#C8D4E3",
            "gridwidth": 2
           },
           "zaxis": {
            "backgroundcolor": "rgb(17,17,17)",
            "gridcolor": "#506784",
            "linecolor": "#506784",
            "showbackground": true,
            "ticks": "",
            "zerolinecolor": "#C8D4E3",
            "gridwidth": 2
           }
          },
          "shapedefaults": {
           "line": {
            "color": "#f2f5fa"
           }
          },
          "annotationdefaults": {
           "arrowcolor": "#f2f5fa",
           "arrowhead": 0,
           "arrowwidth": 1
          },
          "geo": {
           "bgcolor": "rgb(17,17,17)",
           "landcolor": "rgb(17,17,17)",
           "subunitcolor": "#506784",
           "showland": true,
           "showlakes": true,
           "lakecolor": "rgb(17,17,17)"
          },
          "title": {
           "x": 0.05
          },
          "updatemenudefaults": {
           "bgcolor": "#506784",
           "borderwidth": 0
          },
          "sliderdefaults": {
           "bgcolor": "#C8D4E3",
           "borderwidth": 1,
           "bordercolor": "rgb(17,17,17)",
           "tickwidth": 0
          },
          "mapbox": {
           "style": "dark"
          }
         }
        },
        "coloraxis": {
         "colorbar": {
          "title": {
           "text": "Arrival Time (H)"
          }
         },
         "colorscale": [
          [
           0.0,
           "#0d0887"
          ],
          [
           0.1111111111111111,
           "#46039f"
          ],
          [
           0.2222222222222222,
           "#7201a8"
          ],
          [
           0.3333333333333333,
           "#9c179e"
          ],
          [
           0.4444444444444444,
           "#bd3786"
          ],
          [
           0.5555555555555556,
           "#d8576b"
          ],
          [
           0.6666666666666666,
           "#ed7953"
          ],
          [
           0.7777777777777778,
           "#fb9f3a"
          ],
          [
           0.8888888888888888,
           "#fdca26"
          ],
          [
           1.0,
           "#f0f921"
          ]
         ]
        },
        "legend": {
         "tracegroupgap": 0
        },
        "margin": {
         "t": 60
        }
       },
       "config": {
        "plotlyServerURL": "https://plot.ly"
       }
      },
      "text/html": "<div>                            <div id=\"7a2b14ba-d6f5-4145-bc1f-6ce7658827f8\" class=\"plotly-graph-div\" style=\"height:525px; width:100%;\"></div>            <script type=\"text/javascript\">                require([\"plotly\"], function(Plotly) {                    window.PLOTLYENV=window.PLOTLYENV || {};                                    if (document.getElementById(\"7a2b14ba-d6f5-4145-bc1f-6ce7658827f8\")) {                    Plotly.newPlot(                        \"7a2b14ba-d6f5-4145-bc1f-6ce7658827f8\",                        [{\"dimensions\":[{\"label\":\"Arrival Time (H)\",\"values\":[6,6,6,6,6,6,7,7,7,7,7,7,8,8,8,8,8,8,9,9,9,9,9,9,9,9,9,10,10,11,11,11,11,11,11,11,11,12,12,12,12,12,12,12,13,13,13,14,14,14,14,14,14,15,15,15,16,16,16,16,16,16,16,17,17,17,17,17,17,18,18,18,18,18,18,18,18,18,19,19,19,19,20,20,20,20,21,21,21,21,21,21,21,21]},{\"label\":\"Shop time\",\"values\":[0.48333333333333334,0.4,0.43333333333333335,0.55,0.5166666666666667,2.1666666666666665,2.6666666666666665,2.2,0.03333333333333333,0.03333333333333333,0.5333333333333333,1.8,0.45,0.43333333333333335,2.1166666666666667,0.5166666666666667,0.5666666666666667,1.6,0.4666666666666667,3.816666666666667,0.18333333333333332,0.21666666666666667,1.4166666666666667,3.1333333333333333,1.2666666666666666,1.4333333333333333,1.1666666666666667,0.8,0.11666666666666667,0.48333333333333334,0.8666666666666667,0.016666666666666666,0.8,0.75,1.6,1.1833333333333333,3.566666666666667,0.4666666666666667,0.8333333333333334,3.2333333333333334,0.5166666666666667,1.0833333333333333,0.6666666666666666,0.03333333333333333,1.9166666666666667,0.31666666666666665,0.3333333333333333,2.3333333333333335,1.8833333333333333,0.7166666666666667,0.2,2.25,3.95,0.16666666666666666,0.21666666666666667,0.5166666666666667,0.2,0.8,1.8833333333333333,0.6833333333333333,1.65,0.2,0.36666666666666664,0.4166666666666667,0.43333333333333335,2.6166666666666667,0.016666666666666666,2.35,2.2,0.016666666666666666,0.5833333333333334,0.8166666666666667,3.15,0.9666666666666667,0.95,0.1,0.8,0.9166666666666666,0.5166666666666667,0.5666666666666667,0.016666666666666666,0.6666666666666666,0.48333333333333334,1.4333333333333333,3.1,2.3666666666666667,0.3333333333333333,1.8166666666666667,7.4,2.8333333333333335,0.08333333333333333,2.4,1.2666666666666666,0.43333333333333335]},{\"label\":\"Service time Fuel\",\"values\":[2.6333333333333333,2.8833333333333333,3.45,4.166666666666667,7.35,4.333333333333333,1.75,2.283333333333333,10.616666666666667,3.1666666666666665,5.15,3.05,4.55,2.8333333333333335,4.966666666666667,4.466666666666667,4.85,2.566666666666667,3.0166666666666666,4.616666666666666,6.883333333333334,3.8666666666666667,4.266666666666667,7.233333333333333,2.5,5.683333333333334,5.433333333333334,7.566666666666666,5.75,2.75,5.583333333333333,3.816666666666667,7.883333333333334,1.7,5.8,2.95,3.55,4.433333333333334,2.9833333333333334,2.4833333333333334,2.466666666666667,6.166666666666667,2.9166666666666665,1.9666666666666666,1.4666666666666666,2.2666666666666666,4.733333333333333,4.233333333333333,1.2,4.316666666666666,2.35,2.95,8.183333333333334,2.533333333333333,1.2,8.05,5.916666666666667,1.1333333333333333,2.35,2.1666666666666665,3.3333333333333335,2.95,1.7333333333333334,3.2666666666666666,5.033333333333333,7.133333333333334,4.933333333333334,5.583333333333333,3.933333333333333,4.533333333333333,2.95,5.333333333333333,1.9833333333333334,4.933333333333334,5.066666666666666,1.2333333333333334,7.966666666666667,3.3,2.3333333333333335,2.433333333333333,4.816666666666666,2.466666666666667,1.95,3.85,3.933333333333333,6.416666666666667,6.133333333333334,3.433333333333333,15.416666666666666,4.85,11.166666666666666,4.616666666666666,3.8833333333333333,5.633333333333334]},{\"label\":\"Service time payment\",\"values\":[0.6333333333333333,0.8333333333333334,0.9166666666666666,0.6,0.9,0.7333333333333333,0.65,0.85,0.8833333333333333,0.7666666666666667,0.7833333333333333,0.7,0.7,0.8,0.7333333333333333,0.85,0.8833333333333333,0.9,0.7333333333333333,0.8666666666666667,0.75,0.6,0.65,0.9,0.6166666666666667,0.7833333333333333,0.7,0.7,0.7833333333333333,0.75,0.7,0.6,0.9,0.6833333333333333,0.7166666666666667,0.75,0.8,0.8,0.8,0.6166666666666667,0.5833333333333334,0.6333333333333333,0.7666666666666667,0.7,0.8333333333333334,0.7166666666666667,0.7666666666666667,0.7166666666666667,0.75,0.6166666666666667,0.9,0.7833333333333333,0.7166666666666667,0.9166666666666666,0.75,0.7166666666666667,0.7666666666666667,0.8833333333333333,0.7666666666666667,0.7,0.6333333333333333,0.8833333333333333,0.8166666666666667,0.65,0.7833333333333333,0.5833333333333334,0.8833333333333333,0.8333333333333334,0.7333333333333333,0.8833333333333333,0.75,0.7166666666666667,0.5833333333333334,0.8833333333333333,0.85,0.7,0.6666666666666666,0.6,0.6833333333333333,0.6166666666666667,0.8666666666666667,0.75,0.6166666666666667,0.7666666666666667,0.7833333333333333,0.6333333333333333,0.7166666666666667,0.8,0.8,0.8166666666666667,0.75,0.5833333333333334,0.7666666666666667,0.7833333333333333]},{\"label\":\"Parking Preference\",\"values\":[\"Left\",null,null,\"Left\",null,null,null,null,null,null,null,null,null,null,\"Left\",null,null,null,null,null,null,null,\"Left\",null,null,null,null,null,null,null,\"Right\",null,null,null,null,null,\"Right\",null,null,null,null,null,null,null,null,null,\"Right\",\"Left\",null,null,null,null,null,\"Right\",null,null,null,null,null,null,\"Left\",null,null,\"Left\",null,null,null,null,null,null,\"Right\",null,null,null,null,\"Right\",null,null,\"Left\",null,null,\"Right\",null,null,\"Right\",null,\"Left\",null,null,null,null,null,\"Right\",null]},{\"label\":\"Interarrival Times\",\"values\":[2.9867166666666667,1.5053833333333333,0.09558333333333334,0.69645,1.7561666666666667,2.656,5.816083333333333,0.46476666666666666,0.29261666666666664,5.738883333333334,1.1534499999999999,3.10005,0.2659333333333333,2.483166666666667,0.6546833333333333,0.6068333333333332,2.5503833333333334,0.0144,0.7861833333333333,2.9927166666666665,1.4217666666666666,5.51025,1.2866166666666667,1.0329,0.03726666666666667,1.5497333333333332,3.2212166666666664,2.844,0.032016666666666665,2.6182666666666665,1.5315333333333332,1.7627,3.9805333333333333,0.11603333333333334,1.1479166666666667,0.3698166666666667,1.01795,5.8129333333333335,3.302983333333333,0.61095,2.366333333333333,0.7863666666666667,3.1210166666666668,0.4644833333333333,13.9005,4.010816666666667,10.640416666666665,0.8456833333333333,2.6194833333333336,2.740083333333333,1.9944833333333334,0.018899999999999997,0.787,1.8567166666666668,0.2712,1.3915666666666666,7.609816666666666,0.6363333333333333,0.70305,1.1084333333333334,2.6097333333333332,5.425116666666667,4.827116666666667,1.2825833333333334,3.575283333333333,2.97275,2.5002166666666668,0.8972666666666667,1.4582833333333334,2.0723333333333334,0.2868,0.31616666666666665,3.2253666666666665,8.002083333333333,4.95775,1.5020166666666666,2.83845,4.363483333333334,2.006866666666667,0.4082166666666666,1.2252,1.5877333333333332,5.050233333333334,2.7036333333333333,4.07705,1.5039833333333334,7.579183333333333,2.21125,0.8842833333333334,0.84755,0.9715166666666666,0.4200666666666667,2.6634666666666664,3.0042]}],\"domain\":{\"x\":[0.0,1.0],\"y\":[0.0,1.0]},\"line\":{\"color\":[6,6,6,6,6,6,7,7,7,7,7,7,8,8,8,8,8,8,9,9,9,9,9,9,9,9,9,10,10,11,11,11,11,11,11,11,11,12,12,12,12,12,12,12,13,13,13,14,14,14,14,14,14,15,15,15,16,16,16,16,16,16,16,17,17,17,17,17,17,18,18,18,18,18,18,18,18,18,19,19,19,19,20,20,20,20,21,21,21,21,21,21,21,21],\"coloraxis\":\"coloraxis\"},\"name\":\"\",\"type\":\"parcats\"}],                        {\"template\":{\"data\":{\"histogram2dcontour\":[{\"type\":\"histogram2dcontour\",\"colorbar\":{\"outlinewidth\":0,\"ticks\":\"\"},\"colorscale\":[[0.0,\"#0d0887\"],[0.1111111111111111,\"#46039f\"],[0.2222222222222222,\"#7201a8\"],[0.3333333333333333,\"#9c179e\"],[0.4444444444444444,\"#bd3786\"],[0.5555555555555556,\"#d8576b\"],[0.6666666666666666,\"#ed7953\"],[0.7777777777777778,\"#fb9f3a\"],[0.8888888888888888,\"#fdca26\"],[1.0,\"#f0f921\"]]}],\"choropleth\":[{\"type\":\"choropleth\",\"colorbar\":{\"outlinewidth\":0,\"ticks\":\"\"}}],\"histogram2d\":[{\"type\":\"histogram2d\",\"colorbar\":{\"outlinewidth\":0,\"ticks\":\"\"},\"colorscale\":[[0.0,\"#0d0887\"],[0.1111111111111111,\"#46039f\"],[0.2222222222222222,\"#7201a8\"],[0.3333333333333333,\"#9c179e\"],[0.4444444444444444,\"#bd3786\"],[0.5555555555555556,\"#d8576b\"],[0.6666666666666666,\"#ed7953\"],[0.7777777777777778,\"#fb9f3a\"],[0.8888888888888888,\"#fdca26\"],[1.0,\"#f0f921\"]]}],\"heatmap\":[{\"type\":\"heatmap\",\"colorbar\":{\"outlinewidth\":0,\"ticks\":\"\"},\"colorscale\":[[0.0,\"#0d0887\"],[0.1111111111111111,\"#46039f\"],[0.2222222222222222,\"#7201a8\"],[0.3333333333333333,\"#9c179e\"],[0.4444444444444444,\"#bd3786\"],[0.5555555555555556,\"#d8576b\"],[0.6666666666666666,\"#ed7953\"],[0.7777777777777778,\"#fb9f3a\"],[0.8888888888888888,\"#fdca26\"],[1.0,\"#f0f921\"]]}],\"heatmapgl\":[{\"type\":\"heatmapgl\",\"colorbar\":{\"outlinewidth\":0,\"ticks\":\"\"},\"colorscale\":[[0.0,\"#0d0887\"],[0.1111111111111111,\"#46039f\"],[0.2222222222222222,\"#7201a8\"],[0.3333333333333333,\"#9c179e\"],[0.4444444444444444,\"#bd3786\"],[0.5555555555555556,\"#d8576b\"],[0.6666666666666666,\"#ed7953\"],[0.7777777777777778,\"#fb9f3a\"],[0.8888888888888888,\"#fdca26\"],[1.0,\"#f0f921\"]]}],\"contourcarpet\":[{\"type\":\"contourcarpet\",\"colorbar\":{\"outlinewidth\":0,\"ticks\":\"\"}}],\"contour\":[{\"type\":\"contour\",\"colorbar\":{\"outlinewidth\":0,\"ticks\":\"\"},\"colorscale\":[[0.0,\"#0d0887\"],[0.1111111111111111,\"#46039f\"],[0.2222222222222222,\"#7201a8\"],[0.3333333333333333,\"#9c179e\"],[0.4444444444444444,\"#bd3786\"],[0.5555555555555556,\"#d8576b\"],[0.6666666666666666,\"#ed7953\"],[0.7777777777777778,\"#fb9f3a\"],[0.8888888888888888,\"#fdca26\"],[1.0,\"#f0f921\"]]}],\"surface\":[{\"type\":\"surface\",\"colorbar\":{\"outlinewidth\":0,\"ticks\":\"\"},\"colorscale\":[[0.0,\"#0d0887\"],[0.1111111111111111,\"#46039f\"],[0.2222222222222222,\"#7201a8\"],[0.3333333333333333,\"#9c179e\"],[0.4444444444444444,\"#bd3786\"],[0.5555555555555556,\"#d8576b\"],[0.6666666666666666,\"#ed7953\"],[0.7777777777777778,\"#fb9f3a\"],[0.8888888888888888,\"#fdca26\"],[1.0,\"#f0f921\"]]}],\"mesh3d\":[{\"type\":\"mesh3d\",\"colorbar\":{\"outlinewidth\":0,\"ticks\":\"\"}}],\"scatter\":[{\"marker\":{\"line\":{\"color\":\"#283442\"}},\"type\":\"scatter\"}],\"parcoords\":[{\"type\":\"parcoords\",\"line\":{\"colorbar\":{\"outlinewidth\":0,\"ticks\":\"\"}}}],\"scatterpolargl\":[{\"type\":\"scatterpolargl\",\"marker\":{\"colorbar\":{\"outlinewidth\":0,\"ticks\":\"\"}}}],\"bar\":[{\"error_x\":{\"color\":\"#f2f5fa\"},\"error_y\":{\"color\":\"#f2f5fa\"},\"marker\":{\"line\":{\"color\":\"rgb(17,17,17)\",\"width\":0.5},\"pattern\":{\"fillmode\":\"overlay\",\"size\":10,\"solidity\":0.2}},\"type\":\"bar\"}],\"scattergeo\":[{\"type\":\"scattergeo\",\"marker\":{\"colorbar\":{\"outlinewidth\":0,\"ticks\":\"\"}}}],\"scatterpolar\":[{\"type\":\"scatterpolar\",\"marker\":{\"colorbar\":{\"outlinewidth\":0,\"ticks\":\"\"}}}],\"histogram\":[{\"marker\":{\"pattern\":{\"fillmode\":\"overlay\",\"size\":10,\"solidity\":0.2}},\"type\":\"histogram\"}],\"scattergl\":[{\"marker\":{\"line\":{\"color\":\"#283442\"}},\"type\":\"scattergl\"}],\"scatter3d\":[{\"type\":\"scatter3d\",\"line\":{\"colorbar\":{\"outlinewidth\":0,\"ticks\":\"\"}},\"marker\":{\"colorbar\":{\"outlinewidth\":0,\"ticks\":\"\"}}}],\"scattermapbox\":[{\"type\":\"scattermapbox\",\"marker\":{\"colorbar\":{\"outlinewidth\":0,\"ticks\":\"\"}}}],\"scatterternary\":[{\"type\":\"scatterternary\",\"marker\":{\"colorbar\":{\"outlinewidth\":0,\"ticks\":\"\"}}}],\"scattercarpet\":[{\"type\":\"scattercarpet\",\"marker\":{\"colorbar\":{\"outlinewidth\":0,\"ticks\":\"\"}}}],\"carpet\":[{\"aaxis\":{\"endlinecolor\":\"#A2B1C6\",\"gridcolor\":\"#506784\",\"linecolor\":\"#506784\",\"minorgridcolor\":\"#506784\",\"startlinecolor\":\"#A2B1C6\"},\"baxis\":{\"endlinecolor\":\"#A2B1C6\",\"gridcolor\":\"#506784\",\"linecolor\":\"#506784\",\"minorgridcolor\":\"#506784\",\"startlinecolor\":\"#A2B1C6\"},\"type\":\"carpet\"}],\"table\":[{\"cells\":{\"fill\":{\"color\":\"#506784\"},\"line\":{\"color\":\"rgb(17,17,17)\"}},\"header\":{\"fill\":{\"color\":\"#2a3f5f\"},\"line\":{\"color\":\"rgb(17,17,17)\"}},\"type\":\"table\"}],\"barpolar\":[{\"marker\":{\"line\":{\"color\":\"rgb(17,17,17)\",\"width\":0.5},\"pattern\":{\"fillmode\":\"overlay\",\"size\":10,\"solidity\":0.2}},\"type\":\"barpolar\"}],\"pie\":[{\"automargin\":true,\"type\":\"pie\"}]},\"layout\":{\"autotypenumbers\":\"strict\",\"colorway\":[\"#636efa\",\"#EF553B\",\"#00cc96\",\"#ab63fa\",\"#FFA15A\",\"#19d3f3\",\"#FF6692\",\"#B6E880\",\"#FF97FF\",\"#FECB52\"],\"font\":{\"color\":\"#f2f5fa\"},\"hovermode\":\"closest\",\"hoverlabel\":{\"align\":\"left\"},\"paper_bgcolor\":\"rgb(17,17,17)\",\"plot_bgcolor\":\"rgb(17,17,17)\",\"polar\":{\"bgcolor\":\"rgb(17,17,17)\",\"angularaxis\":{\"gridcolor\":\"#506784\",\"linecolor\":\"#506784\",\"ticks\":\"\"},\"radialaxis\":{\"gridcolor\":\"#506784\",\"linecolor\":\"#506784\",\"ticks\":\"\"}},\"ternary\":{\"bgcolor\":\"rgb(17,17,17)\",\"aaxis\":{\"gridcolor\":\"#506784\",\"linecolor\":\"#506784\",\"ticks\":\"\"},\"baxis\":{\"gridcolor\":\"#506784\",\"linecolor\":\"#506784\",\"ticks\":\"\"},\"caxis\":{\"gridcolor\":\"#506784\",\"linecolor\":\"#506784\",\"ticks\":\"\"}},\"coloraxis\":{\"colorbar\":{\"outlinewidth\":0,\"ticks\":\"\"}},\"colorscale\":{\"sequential\":[[0.0,\"#0d0887\"],[0.1111111111111111,\"#46039f\"],[0.2222222222222222,\"#7201a8\"],[0.3333333333333333,\"#9c179e\"],[0.4444444444444444,\"#bd3786\"],[0.5555555555555556,\"#d8576b\"],[0.6666666666666666,\"#ed7953\"],[0.7777777777777778,\"#fb9f3a\"],[0.8888888888888888,\"#fdca26\"],[1.0,\"#f0f921\"]],\"sequentialminus\":[[0.0,\"#0d0887\"],[0.1111111111111111,\"#46039f\"],[0.2222222222222222,\"#7201a8\"],[0.3333333333333333,\"#9c179e\"],[0.4444444444444444,\"#bd3786\"],[0.5555555555555556,\"#d8576b\"],[0.6666666666666666,\"#ed7953\"],[0.7777777777777778,\"#fb9f3a\"],[0.8888888888888888,\"#fdca26\"],[1.0,\"#f0f921\"]],\"diverging\":[[0,\"#8e0152\"],[0.1,\"#c51b7d\"],[0.2,\"#de77ae\"],[0.3,\"#f1b6da\"],[0.4,\"#fde0ef\"],[0.5,\"#f7f7f7\"],[0.6,\"#e6f5d0\"],[0.7,\"#b8e186\"],[0.8,\"#7fbc41\"],[0.9,\"#4d9221\"],[1,\"#276419\"]]},\"xaxis\":{\"gridcolor\":\"#283442\",\"linecolor\":\"#506784\",\"ticks\":\"\",\"title\":{\"standoff\":15},\"zerolinecolor\":\"#283442\",\"automargin\":true,\"zerolinewidth\":2},\"yaxis\":{\"gridcolor\":\"#283442\",\"linecolor\":\"#506784\",\"ticks\":\"\",\"title\":{\"standoff\":15},\"zerolinecolor\":\"#283442\",\"automargin\":true,\"zerolinewidth\":2},\"scene\":{\"xaxis\":{\"backgroundcolor\":\"rgb(17,17,17)\",\"gridcolor\":\"#506784\",\"linecolor\":\"#506784\",\"showbackground\":true,\"ticks\":\"\",\"zerolinecolor\":\"#C8D4E3\",\"gridwidth\":2},\"yaxis\":{\"backgroundcolor\":\"rgb(17,17,17)\",\"gridcolor\":\"#506784\",\"linecolor\":\"#506784\",\"showbackground\":true,\"ticks\":\"\",\"zerolinecolor\":\"#C8D4E3\",\"gridwidth\":2},\"zaxis\":{\"backgroundcolor\":\"rgb(17,17,17)\",\"gridcolor\":\"#506784\",\"linecolor\":\"#506784\",\"showbackground\":true,\"ticks\":\"\",\"zerolinecolor\":\"#C8D4E3\",\"gridwidth\":2}},\"shapedefaults\":{\"line\":{\"color\":\"#f2f5fa\"}},\"annotationdefaults\":{\"arrowcolor\":\"#f2f5fa\",\"arrowhead\":0,\"arrowwidth\":1},\"geo\":{\"bgcolor\":\"rgb(17,17,17)\",\"landcolor\":\"rgb(17,17,17)\",\"subunitcolor\":\"#506784\",\"showland\":true,\"showlakes\":true,\"lakecolor\":\"rgb(17,17,17)\"},\"title\":{\"x\":0.05},\"updatemenudefaults\":{\"bgcolor\":\"#506784\",\"borderwidth\":0},\"sliderdefaults\":{\"bgcolor\":\"#C8D4E3\",\"borderwidth\":1,\"bordercolor\":\"rgb(17,17,17)\",\"tickwidth\":0},\"mapbox\":{\"style\":\"dark\"}}},\"coloraxis\":{\"colorbar\":{\"title\":{\"text\":\"Arrival Time (H)\"}},\"colorscale\":[[0.0,\"#0d0887\"],[0.1111111111111111,\"#46039f\"],[0.2222222222222222,\"#7201a8\"],[0.3333333333333333,\"#9c179e\"],[0.4444444444444444,\"#bd3786\"],[0.5555555555555556,\"#d8576b\"],[0.6666666666666666,\"#ed7953\"],[0.7777777777777778,\"#fb9f3a\"],[0.8888888888888888,\"#fdca26\"],[1.0,\"#f0f921\"]]},\"legend\":{\"tracegroupgap\":0},\"margin\":{\"t\":60}},                        {\"responsive\": true}                    ).then(function(){\n                            \nvar gd = document.getElementById('7a2b14ba-d6f5-4145-bc1f-6ce7658827f8');\nvar x = new MutationObserver(function (mutations, observer) {{\n        var display = window.getComputedStyle(gd).display;\n        if (!display || display === 'none') {{\n            console.log([gd, 'removed!']);\n            Plotly.purge(gd);\n            observer.disconnect();\n        }}\n}});\n\n// Listen for the removal of the full notebook cells\nvar notebookContainer = gd.closest('#notebook-container');\nif (notebookContainer) {{\n    x.observe(notebookContainer, {childList: true});\n}}\n\n// Listen for the clearing of the current output cell\nvar outputEl = gd.closest('.output');\nif (outputEl) {{\n    x.observe(outputEl, {childList: true});\n}}\n\n                        })                };                });            </script>        </div>"
     },
     "metadata": {},
     "output_type": "display_data"
    }
   ],
   "source": [
    "px.parallel_categories(\n",
    "    data_frame=data,\n",
    "    dimensions=[\n",
    "        \"Arrival Time (H)\",\n",
    "        \"Shop time\",\n",
    "        \"Service time Fuel\",\n",
    "        \"Service time payment\",\n",
    "        \"Parking Preference\",\n",
    "        \"Interarrival Times\"\n",
    "    ],\n",
    "    color=\"Arrival Time (H)\")"
   ]
  },
  {
   "cell_type": "code",
   "execution_count": 12,
   "metadata": {
    "collapsed": false,
    "ExecuteTime": {
     "end_time": "2024-03-25T09:09:52.689025548Z",
     "start_time": "2024-03-25T09:09:52.590729288Z"
    }
   },
   "outputs": [],
   "source": []
  },
  {
   "cell_type": "code",
   "execution_count": 12,
   "metadata": {
    "collapsed": false,
    "ExecuteTime": {
     "end_time": "2024-03-25T09:09:52.689192791Z",
     "start_time": "2024-03-25T09:09:52.590880352Z"
    }
   },
   "outputs": [],
   "source": []
  }
 ],
 "metadata": {
  "kernelspec": {
   "display_name": "Python 3",
   "language": "python",
   "name": "python3"
  },
  "language_info": {
   "codemirror_mode": {
    "name": "ipython",
    "version": 3
   },
   "file_extension": ".py",
   "mimetype": "text/x-python",
   "name": "python",
   "nbconvert_exporter": "python",
   "pygments_lexer": "ipython3",
   "version": "3.12.0"
  }
 },
 "nbformat": 4,
 "nbformat_minor": 2
}
